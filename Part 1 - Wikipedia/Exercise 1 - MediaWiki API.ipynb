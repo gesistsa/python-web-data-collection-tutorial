{
 "cells": [
  {
   "cell_type": "raw",
   "metadata": {},
   "source": [
    "---\n",
    "author:\n",
    "- name:\n",
    "    family: Sun\n",
    "    given: Jun\n",
    "title: Exercise 1 - MediaWiki API\n",
    "---"
   ]
  },
  {
   "cell_type": "code",
   "execution_count": null,
   "metadata": {
    "id": "078279312AZp"
   },
   "outputs": [],
   "source": [
    "import pandas as pd # for data manipulation\n",
    "import requests     # for executing the HTTP request\n",
    "import json         # for data manipulation in JSON format\n",
    "\n",
    "from pprint import pprint          # display data nicely\n",
    "from IPython.display import JSON   # display JSON data nicely in some environments"
   ]
  },
  {
   "cell_type": "markdown",
   "metadata": {
    "id": "YoYnVl6_Jq1k"
   },
   "source": [
    "## 1. Implement your own wrapper function to parse a page\n",
    "\n",
    "Your function should\n",
    "1. receive the page title as a parameter\n",
    "2. allow to specify a language but default to 'en'"
   ]
  },
  {
   "cell_type": "code",
   "execution_count": null,
   "metadata": {
    "id": "u49-utJ2OJQR"
   },
   "outputs": [],
   "source": []
  },
  {
   "cell_type": "markdown",
   "metadata": {
    "id": "Z-aXbOO-qvzB"
   },
   "source": [
    "## 2. Test it with any Wikipedia entry you like"
   ]
  },
  {
   "cell_type": "code",
   "execution_count": null,
   "metadata": {
    "id": "m2waeaq4qvzB"
   },
   "outputs": [],
   "source": []
  },
  {
   "cell_type": "markdown",
   "metadata": {
    "id": "VLSV9a1uLRLQ"
   },
   "source": [
    "## 3. Get the number of languages of this entry"
   ]
  },
  {
   "cell_type": "code",
   "execution_count": null,
   "metadata": {
    "id": "C7IuwdUKOKQ0"
   },
   "outputs": [],
   "source": []
  },
  {
   "cell_type": "markdown",
   "metadata": {
    "id": "tB2BxGtZQnDf"
   },
   "source": [
    "## 4. Find the number of top-level sections in the page of each language\n",
    "\n",
    "Hint:\n",
    "1. check ```data['parse']['sections']```\n",
    "2. ```toclevel == 1``` means it is a top-level section"
   ]
  },
  {
   "cell_type": "code",
   "execution_count": null,
   "metadata": {
    "id": "XBpqa_5mqvzB",
    "scrolled": true
   },
   "outputs": [],
   "source": []
  }
 ],
 "metadata": {
  "colab": {
   "provenance": [
    {
     "file_id": "1YMRN6ZZmgMa1RIMTpWZrrhv03i-eNzlx",
     "timestamp": 1661972441428
    }
   ],
   "toc_visible": true
  },
  "kernelspec": {
   "display_name": "Python 3 (ipykernel)",
   "language": "python",
   "name": "python3"
  },
  "language_info": {
   "codemirror_mode": {
    "name": "ipython",
    "version": 3
   },
   "file_extension": ".py",
   "mimetype": "text/x-python",
   "name": "python",
   "nbconvert_exporter": "python",
   "pygments_lexer": "ipython3",
   "version": "3.10.12"
  }
 },
 "nbformat": 4,
 "nbformat_minor": 1
}
