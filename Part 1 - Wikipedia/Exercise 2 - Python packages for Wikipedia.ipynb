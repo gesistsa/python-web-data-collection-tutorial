{
 "cells": [
  {
   "cell_type": "markdown",
   "metadata": {
    "id": "7NHIORZi6mS-"
   },
   "source": [
    "# Exercise 2 - Python packages for Wikipedia"
   ]
  },
  {
   "cell_type": "code",
   "execution_count": null,
   "metadata": {},
   "outputs": [],
   "source": [
    "from pprint import pprint"
   ]
  },
  {
   "cell_type": "markdown",
   "metadata": {},
   "source": [
    "## Task 1. Install and import packages\n",
    "\n",
    "Note: If you use Google colab, you have to install ```pywikibot``` and ```wikitextparser``` for each new notebook where you want to use them."
   ]
  },
  {
   "cell_type": "code",
   "execution_count": null,
   "metadata": {
    "executionInfo": {
     "elapsed": 348,
     "status": "ok",
     "timestamp": 1661345417627,
     "user": {
      "displayName": "j sun",
      "userId": "17988310555764026783"
     },
     "user_tz": -120
    },
    "id": "tk2Ynccu7MYf"
   },
   "outputs": [],
   "source": [
    "## insert your code here"
   ]
  },
  {
   "cell_type": "markdown",
   "metadata": {
    "id": "B_iIWqOSwZ3Z"
   },
   "source": [
    "## Task 2. Pages and categories\n",
    "\n",
    "Your task is:\n",
    "\n",
    "    1. retrieve the page \"Cologne\" in the English Wikipedia and print its wikitext\n",
    "    2. print the categories this page belongs to\n",
    "    3. print all articles that belong to \"Category:Cities in North Rhine-Westphalia\""
   ]
  },
  {
   "cell_type": "markdown",
   "metadata": {
    "id": "jDXkgl_i5Vog"
   },
   "source": [
    "### 2.1 Retrieve the page \"Cologne\" in the English Wikipedia and print its wikitext"
   ]
  },
  {
   "cell_type": "code",
   "execution_count": null,
   "metadata": {
    "colab": {
     "base_uri": "https://localhost:8080/",
     "height": 270
    },
    "executionInfo": {
     "elapsed": 5749,
     "status": "ok",
     "timestamp": 1661345423373,
     "user": {
      "displayName": "j sun",
      "userId": "17988310555764026783"
     },
     "user_tz": -120
    },
    "id": "4Fk-GpqzAlDW",
    "outputId": "b1b1e560-babe-43da-9d36-188a072a44bc"
   },
   "outputs": [],
   "source": [
    "## insert your code here"
   ]
  },
  {
   "cell_type": "markdown",
   "metadata": {
    "id": "jDXkgl_i5Vog"
   },
   "source": [
    "### 2.2 Print the categories this page belongs to"
   ]
  },
  {
   "cell_type": "code",
   "execution_count": null,
   "metadata": {
    "scrolled": true
   },
   "outputs": [],
   "source": [
    "## insert your code here"
   ]
  },
  {
   "cell_type": "markdown",
   "metadata": {
    "id": "jDXkgl_i5Vog"
   },
   "source": [
    "### 2.3 Print all articles that belong to \"Category:Cities in North Rhine-Westphalia\""
   ]
  },
  {
   "cell_type": "code",
   "execution_count": null,
   "metadata": {
    "colab": {
     "base_uri": "https://localhost:8080/"
    },
    "executionInfo": {
     "elapsed": 815,
     "status": "ok",
     "timestamp": 1661345424177,
     "user": {
      "displayName": "j sun",
      "userId": "17988310555764026783"
     },
     "user_tz": -120
    },
    "id": "piAgYcCcBoQP",
    "outputId": "da0d5b49-0fd6-404c-dcbf-d3c439b531e7",
    "scrolled": true
   },
   "outputs": [],
   "source": [
    "## insert your code here"
   ]
  },
  {
   "cell_type": "markdown",
   "metadata": {
    "id": "a2MFxwldHsdJ"
   },
   "source": [
    "## Task 3. Working with nested lists\n",
    "\n",
    "A nested list is a list of lists. An example can be found in the \"Education\" section. Your task is:\n",
    "\n",
    "    1. find the \"Education\" section\n",
    "    2. examine the structure of the nested list\n",
    "    3. get all universities and colledges"
   ]
  },
  {
   "cell_type": "markdown",
   "metadata": {
    "id": "3QEzdQ9k6C0u"
   },
   "source": [
    "### 3.1 Find the \"Education\" section"
   ]
  },
  {
   "cell_type": "code",
   "execution_count": null,
   "metadata": {},
   "outputs": [],
   "source": [
    "## insert your code here"
   ]
  },
  {
   "cell_type": "markdown",
   "metadata": {
    "id": "3QEzdQ9k6C0u"
   },
   "source": [
    "### 3.2 Examine the structure of the nested list"
   ]
  },
  {
   "cell_type": "code",
   "execution_count": null,
   "metadata": {
    "scrolled": true
   },
   "outputs": [],
   "source": [
    "## insert your code here"
   ]
  },
  {
   "cell_type": "markdown",
   "metadata": {
    "id": "3QEzdQ9k6C0u"
   },
   "source": [
    "### 3.3 Get all universities and colleges"
   ]
  },
  {
   "cell_type": "code",
   "execution_count": null,
   "metadata": {},
   "outputs": [],
   "source": [
    "## insert your code here"
   ]
  }
 ],
 "metadata": {
  "colab": {
   "collapsed_sections": [],
   "name": "Exercise - Reddit 2 : PSAW solution.ipynb",
   "provenance": [
    {
     "file_id": "1SDA-C27eiNYWQMmsFlfdSKF15trDQ56c",
     "timestamp": 1661333184697
    }
   ]
  },
  "kernelspec": {
   "display_name": "Python 3 (ipykernel)",
   "language": "python",
   "name": "python3"
  },
  "language_info": {
   "codemirror_mode": {
    "name": "ipython",
    "version": 3
   },
   "file_extension": ".py",
   "mimetype": "text/x-python",
   "name": "python",
   "nbconvert_exporter": "python",
   "pygments_lexer": "ipython3",
   "version": "3.10.6"
  }
 },
 "nbformat": 4,
 "nbformat_minor": 1
}
