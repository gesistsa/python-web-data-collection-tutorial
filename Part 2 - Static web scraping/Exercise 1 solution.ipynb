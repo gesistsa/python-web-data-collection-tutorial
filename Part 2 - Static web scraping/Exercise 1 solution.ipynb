{
 "cells": [
  {
   "cell_type": "markdown",
   "metadata": {
    "id": "8r_Ff7fJS4Y1"
   },
   "source": [
    "# Exercise - Static web scraping 1\n",
    "\n",
    "Author: Jun Sun (jun.sun@gesis.org)"
   ]
  },
  {
   "cell_type": "markdown",
   "metadata": {
    "id": "agnBYHiFpADS"
   },
   "source": [
    "## Import modules and set up environment"
   ]
  },
  {
   "cell_type": "code",
   "execution_count": 1,
   "metadata": {
    "executionInfo": {
     "elapsed": 13,
     "status": "ok",
     "timestamp": 1695202002137,
     "user": {
      "displayName": "`",
      "userId": "02799889750924565863"
     },
     "user_tz": -120
    },
    "id": "-rotZeFJS4Y2"
   },
   "outputs": [],
   "source": [
    "# Package query and download from web resources! Alternatives: URLlib2, URLlib3\n",
    "import requests\n",
    "\n",
    "# Speaking of, we can manipulate URLs easily with urllib\n",
    "import urllib"
   ]
  },
  {
   "cell_type": "markdown",
   "metadata": {
    "id": "KhIQQjqRS4ZR"
   },
   "source": [
    "## Task 1\n",
    "\n",
    "1. go to an online html editor, e.g., https://jsbin.com/, https://html5-editor.net/\n",
    "2. copy-paste the examples in the slides\n",
    "3. make the first word of the first line bold\n",
    "4. add a link to from page to google’s homepage"
   ]
  },
  {
   "cell_type": "markdown",
   "metadata": {
    "id": "ddkqK6ER3fzu"
   },
   "source": [
    "### Bonus\n",
    "1. create 2 pages locally\n",
    "2. save them both\n",
    "3. link from the first to the second\n",
    "4. check that the link works"
   ]
  },
  {
   "cell_type": "markdown",
   "metadata": {
    "id": "zuTK5AvD_o8V"
   },
   "source": [
    "## Task 2\n",
    "\n",
    "Find out can you scrape financial data from google finance?\n",
    "\n",
    "https://www.google.com/robots.txt"
   ]
  },
  {
   "cell_type": "markdown",
   "metadata": {
    "id": "gtZJ6kGH5CPC"
   },
   "source": [
    "## Task 3\n",
    "\n",
    "Visit this URL\n",
    "\n",
    "https://www.whatismybrowser.com/detect/what-http-headers-is-my-browser-sending\n",
    "\n",
    "1. in a browser in your laptop\n",
    "2. with a mobile browser\n",
    "3. with or requests in Python\n",
    "\n",
    "Compare the result, esp. the user agent."
   ]
  },
  {
   "cell_type": "code",
   "execution_count": 2,
   "metadata": {
    "executionInfo": {
     "elapsed": 250,
     "status": "ok",
     "timestamp": 1695202334352,
     "user": {
      "displayName": "`",
      "userId": "02799889750924565863"
     },
     "user_tz": -120
    },
    "id": "jJ6Ih2Fe5SY-"
   },
   "outputs": [],
   "source": [
    "page = requests.get(\"https://www.whatismybrowser.com/detect/what-http-headers-is-my-browser-sending\")"
   ]
  },
  {
   "cell_type": "code",
   "execution_count": 3,
   "metadata": {
    "id": "GQCEVODo_DeX"
   },
   "outputs": [
    {
     "data": {
      "text/plain": [
       "b'<!DOCTYPE html>\\n<html lang=\"en\">\\n    <head>\\n        <meta charset=\"utf-8\">\\n\\n        \\n\\n            \\n        \\n    \\n\\n        <link rel=\"stylesheet preload prefetch\" as=\"style\" type=\"text/css\" href=\"https://cdn.whatismybrowser.com/prod-website/static/main/css/site.min.css?time=1689816404\" />\\n\\n        \\n    \\n\\n\\n        \\n\\n\\n        <title>What HTTP Headers is my browser sending?</title>\\n        <meta name=\"description\" content=\"Every time your web browser sends a request it includes a series of HTTP headers; this page tells you which ones you are sending.\" />\\n\\n        <!-- Mobile meta tags -->\\n        <meta name=\"viewport\" content=\"width=device-width, initial-scale=1.0, user-scalable=yes\" />\\n        <meta name=\"apple-mobile-web-app-capable\" content=\"yes\" />\\n        <meta name=\"HandheldFriendly\" content=\"true\" />\\n        <meta name=\"format-detection\" content=\"telephone=no\" />\\n\\n        <!-- Open Graph meta tags -->\\n        <meta property=\"og:site_name\" content=\"WhatIsMyBrowser.com\" />\\n        <meta property=\"og:type\" content=\"Website\" />\\n        <meta property=\"og:title\" content=\"What HTTP Headers is my browser sending?\" /> \\n        <meta property=\"og:image\" content=\"https://cdn.whatismybrowser.com/prod-website/static/main/images/logo/open-graph-homepage.png\" /> \\n        <meta property=\"og:description\" content=\"Every time your web browser sends a request it includes a series of HTTP headers; this page tells you which ones you are sending.\" />\\n        <meta property=\"og:url\" content=\"https://www.whatismybrowser.com/detect/what-http-headers-is-my-browser-sending\" />\\n        <meta property=\"article:section\" content=\"Technology\" />\\n        \\n\\n        <!-- Twitter -->\\n        <meta name=\"twitter:card\" content=\"summary\">\\n        <meta name=\"twitter:site\" content=\"@whatismybrowser\">\\n        <meta name=\"twitter:creator\" content=\"@whatismybrowser\">\\n        <meta name=\"twitter:title\" content=\"What HTTP Headers is my browser sending?\">\\n        <meta name=\"twitter:description\" content=\"Every time your web browser sends a request it includes a series of HTTP headers; this page tells you which ones you are sending.\">\\n        \\n        \\n\\n        <!-- Favicon -->\\n        <link rel=\"shortcut icon\" href=\"https://cdn.whatismybrowser.com/prod-website/static/favicon.ico\" type=\"image/x-icon\" />\\n        <link rel=\"apple-touch-icon\" sizes=\"152x152\" href=\"https://cdn.whatismybrowser.com/prod-website/static/main/images/logo/apple-touch-icon.png\" />\\n        <link rel=\"icon\" sizes=\"192x192\" href=\"https://cdn.whatismybrowser.com/prod-website/static/main/images/logo/wimb-192.png\">\\n\\n        <!-- Google -->\\n        <meta name=\"google-site-verification\" content=\"0F0ECU9Mnc7O7bpIelLuldRYwQQr-ZzFDOmzesu1O24\" />\\n        \\n\\n        <!-- Misc -->\\n        <meta name=\"msapplication-config\" content=\"none\"/>\\n\\n        \\n        <meta name=\"theme-color\" content=\"#428bae\">\\n\\n        \\n        <!-- The Canonical URL for this page -->\\n        <link rel=\"canonical\" href=\"https://www.whatismybrowser.com/detect/what-http-headers-is-my-browser-sending\" />\\n        \\n\\n        \\n        <!-- The only translation -->\\n        <link rel=\"alternate\" hreflang=\"en\" href=\"https://www.whatismybrowser.com/detect/what-http-headers-is-my-browser-sending\" />\\n        <link rel=\"alternate\" hreflang=\"x-default\" href=\"https://www.whatismybrowser.com/detect/what-http-headers-is-my-browser-sending\" />\\n        \\n\\n        \\n\\n        \\n        <!-- Preload javascript (it\\'s added at the end of the page) -->\\n        <link rel=\"preload prefetch\" href=\"https://cdn.whatismybrowser.com/prod-website/static/main/js/site.min.js?cb=1689557877\" as=\"script\">\\n        \\n\\n\\n        \\n\\n    \\n\\n    \\n        <!-- Google AdSense -->\\n        <script async src=\"https://pagead2.googlesyndication.com/pagead/js/adsbygoogle.js?client=ca-pub-8548565564007782\" crossorigin=\"anonymous\"></script>\\n    \\n\\n\\n\\n        \\n\\n        \\n\\n        <!-- Structured Data - For the whole site: Organization and the Website itself -->\\n        <script type=\"application/ld+json\">\\n            {\\n                \"@context\": \"https://schema.org\",\\n                \"@type\": \"Organization\",\\n                \"name\": \"WhatIsMyBrowser.com\",\\n                \"url\": \"https://www.whatismybrowser.com\",\\n                \"foundingDate\": \"2010-11-10\",\\n                \"founder\": {\\n                    \"@type\": \"Person\",\\n                    \"name\": \"Brett Harris\",\\n                    \"givenName\": \"Brett\",\\n                    \"familyName\": \"Harris\",\\n                    \"url\": \"https://www.whatismybrowser.com/about/team/brett-harris\"\\n                },\\n                \"logo\": {\\n                    \"@type\": \"ImageObject\",\\n                    \"url\": \"https://cdn.whatismybrowser.com/prod-website/static/main/images/logo/logo-words-blue-black-transparent.png\",\\n                    \"width\": 600,\\n                    \"height\": 600\\n                },\\n                \"sameAs\": [\\n                    \"https://twitter.com/whatismybrowser\",\\n                    \"https://github.com/whatismybrowser/\"\\n                ]\\n            }\\n        </script>\\n        <script type=\"application/ld+json\">\\n            {\\n                \"@context\": \"https://schema.org\",\\n                \"@type\": \"WebSite\",\\n                \"name\": \"WhatIsMyBrowser.com\",\\n                \"url\": \"https://www.whatismybrowser.com\",\\n                \"image\": {\\n                    \"@type\": \"ImageObject\",\\n                    \"url\": \"https://cdn.whatismybrowser.com/prod-website/static/main/images/logo/open-graph-homepage.png\",\\n                    \"width\": 600,\\n                    \"height\": 600\\n                },\\n                \"potentialAction\": {\\n                    \"@type\": \"SearchAction\",\\n                    \"target\": \"https://www.whatismybrowser.com/search/?q={search_term}\",\\n                    \"query-input\": \"required name=search_term\"\\n                },\\n                \"sameAs\": [\\n                    \"https://twitter.com/whatismybrowser\",\\n                    \"https://github.com/whatismybrowser/\"\\n                ]\\n            }\\n        </script>\\n\\n\\n    </head>\\n    <body class=\" section_detect section_what-http-headers-is-my-browser-sending    page lang-en\">\\n\\n        \\n\\n\\n\\n        <nav id=\"site\" aria-label=\"Heading and navigation\">\\n\\n            <div id=\"top-logo-and-name\">\\n                <a href=\"/\" aria-label=\"My Browser\">\\n                    <div id=\"top-logo\"></div>\\n                </a>\\n                <div id=\"top-name\"><a href=\"/\"><span id=\"top-name-site\">WhatIsMyBrowser.com</span></a></div>\\n            </div>\\n\\n            <ul id=\"main-nav\">\\n                \\n                <li class=\"homepage\"><a href=\"/\">My browser</a></li>\\n                \\n                <li class=\"guides\"><a href=\"/guides/\">Guides</a></li>\\n                \\n                <li class=\"clear-cache\"><a href=\"/guides/clear-cache-history-cookies/\">Clear Cache</a></li>\\n                \\n                <li class=\"detect active\"><a href=\"/detect/\">Detect my settings</a></li>\\n                \\n                <li class=\"developers-tools\"><a href=\"/developers/tools/\">Tools</a></li>\\n                \\n            </ul>\\n\\n            \\n\\n        </nav>\\n\\n\\n\\n        <div id=\"content-base\">\\n\\n            \\n\\n            <section class=\"section-block section-block-main-only\" id=\"breadcrumbs\">\\n                <div class=\"corset\">\\n                    <div class=\"content-block-main\">\\n                        <nav aria-label=\"Breadcrumb\">\\n                            <ol vocab=\"http://schema.org/\" typeof=\"BreadcrumbList\">\\n                                \\n                                    \\n                                <li property=\"itemListElement\" typeof=\"ListItem\">\\n                                    <a property=\"item\" typeof=\"WebPage\" href=\"/\">\\n                                        <span property=\"name\">\\n                                            Homepage\\n                                        </span>\\n                                    </a>\\n                                    <meta property=\"position\" content=\"1\">\\n                                </li>\\n                                    \\n                                \\n                                    \\n                                <li property=\"itemListElement\" typeof=\"ListItem\">\\n                                    <a property=\"item\" typeof=\"WebPage\" href=\"/detect/\">\\n                                        <span property=\"name\">\\n                                            Detect my settings\\n                                        </span>\\n                                    </a>\\n                                    <meta property=\"position\" content=\"2\">\\n                                </li>\\n                                    \\n                                \\n                                    \\n                                <li property=\"itemListElement\" typeof=\"ListItem\" class=\"current\" aria-current=\"page\">\\n                                    <a property=\"item\" typeof=\"WebPage\" href=\"/detect/what-http-headers-is-my-browser-sending\">\\n                                        <span property=\"name\">\\n                                            What HTTP Headers is my browser sending?\\n                                        </span>\\n                                    </a>\\n                                    <meta property=\"position\" content=\"3\">\\n                                </li>\\n                                    \\n                                \\n                            </ol>\\n                        </nav>\\n                    </div>\\n                </div>\\n            </section>\\n\\n\\n\\n            \\n    \\n\\n\\n            \\n\\n        \\n\\n            \\n            \\n\\n        \\n\\n            <section class=\"section-block section-block-main-extra\">\\n                <div class=\"corset\">\\n                    <div class=\"content-block-main\">\\n\\n                        <h1>What HTTP Headers is my browser sending?</h1>\\n\\n                        <p>Every time your web browser opens a web page, it sends a \"<em>request</em>\" for that page. Part of that request includes a series of \"<em>headers</em>\".</p>\\n\\n                        <p>Here is the list of all the headers your browser sent when requesting this page.</p><p>There were 7 headers sent:</p>\\n\\n                        <table class=\"table table-striped table-data\">\\n                        \\n                            <tr>\\n                                <th>ACCEPT</th>\\n                                <td>*/*</td>\\n                            </tr>\\n                        \\n                            <tr>\\n                                <th>ACCEPT-ENCODING</th>\\n                                <td>gzip, deflate, br</td>\\n                            </tr>\\n                        \\n                            <tr>\\n                                <th>CONNECTION</th>\\n                                <td>keep-alive</td>\\n                            </tr>\\n                        \\n                            <tr>\\n                                <th>CONTENT-LENGTH</th>\\n                                <td></td>\\n                            </tr>\\n                        \\n                            <tr>\\n                                <th>CONTENT-TYPE</th>\\n                                <td></td>\\n                            </tr>\\n                        \\n                            <tr>\\n                                <th>HOST</th>\\n                                <td>www.whatismybrowser.com</td>\\n                            </tr>\\n                        \\n                            <tr>\\n                                <th>USER-AGENT</th>\\n                                <td>python-requests/2.28.1</td>\\n                            </tr>\\n                        \\n                        </table>\\n\\n                        <aside class=\"wimb-callout small\">\\n                        \\n                            <h2>We sorted your browser\\'s HTTP headers alphabetically</h2>\\n                            <p>If you want, you can <a href=\"/detect/what-http-headers-is-my-browser-sending?sort=dont-sort\">see your HTTP headers in the order your browser sent them</a>.</i></p>\\n                        \\n                        </aside>\\n\\n                        <p>These headers may vary from site to site (in particular the <em>HOST</em> and <em>COOKIE</em> headers!) depending on your settings.</p>\\n\\n                        <p>If you\\'re curious and want to learn more about HTTP (a protocol which the <a href=\"http://wikipedia.org/wiki/World_Wide_Web\" target=\"_blank\" rel=\"noopener\">World Wide Web</a> relies on) and HTTP Headers, please read the Wikipedia pages on <a href=\"http://wikipedia.org/wiki/Hypertext_Transfer_Protocol\">Hypertext Transfer Protocol</a> and <a href=\"http://wikipedia.org/wiki/List_of_HTTP_header_fields\">List of HTTP header fields</a>.</p>\\n\\n                        <h2>Curious about Client Hints? We detect them too!</h2>\\n\\n                        <p>Client Hints are the new approach to identifying web browsers, built to eventually replace <a href=\"https://developers.whatismybrowser.com/useragents/explore\">user agents</a>. We\\'re following the development and switch to using them closely. We\\'ve also built a <a href=\"/detect/client-hints/\">tool to detect client hints</a> that your web browser is sending.</p>\\n\\n                        <h3>More questions?</h3>\\n                        <p>If you have any more questions, use the <a href=\"/about/contact/\">contact form</a> and we\\'ll answer it and add your question here.</p>\\n\\n                    </div>\\n                    <div class=\"content-block-extra\">\\n                        \\n\\n\\n\\n    \\n\\n\\n    \\n                        <div class=\"fun fun-adsense fun-responsive\">\\n                            <div class=\"fun-inner\">\\n                            \\n                            \\n                                <!-- WIMB: Extra Column 01 -->\\n                                <ins class=\"adsbygoogle\"\\n                                     style=\"display:block\"\\n                                     data-ad-client=\"ca-pub-8548565564007782\"\\n                                     data-ad-slot=\"5510985125\"\\n                                     data-ad-format=\"auto\"\\n                                     data-full-width-responsive=\"true\"></ins>\\n                                <script>\\n                                (adsbygoogle = window.adsbygoogle || []).push({});\\n                                </script>\\n                            \\n                            </div>\\n                            \\n                                <div class=\"fun-info-footer\">Ads by Google</div>\\n                            \\n                        </div>\\n    \\n\\n\\n\\n    \\n\\n\\n\\n                        <section class=\"link-group related-articles\">\\n                            <h2><a href=\"/guides/clear-cache-history-cookies/\">Clear cache & history</a></h2>\\n\\n                            <ul>\\n                            \\n                                <li>\\n                                    <h3><a href=\"/guides/clear-cache-history-cookies/faq/why-clear-cache\">Do I need to clear my cache?</a></h3>\\n                                    <p>Not sure why you\\'ve been asked to clear your cache? We can explain.\\n                                        \\n                                            <br /><a href=\"/guides/clear-cache-history-cookies/faq/why-clear-cache\" class=\"read-more\">Why you need to clear your cache</a>\\n                                        \\n                                    </p>\\n                                </li>\\n                            \\n                                <li>\\n                                    <h3><a href=\"/guides/clear-cache-history-cookies/faq/what-is-a-cache\">What is a cache?</a></h3>\\n                                    <p>Before you consider clearing your browser cache, you should know what it is!\\n                                        \\n                                            <br /><a href=\"/guides/clear-cache-history-cookies/faq/what-is-a-cache\" class=\"read-more\">Learn a little bit about browser caches</a>\\n                                        \\n                                    </p>\\n                                </li>\\n                            \\n                                <li>\\n                                    <h3><a href=\"/guides/clear-cache-history-cookies/faq/is-it-safe-to-clear-cache\">Is it safe to clear my cache?</a></h3>\\n                                    <p>Are there any risks to clearing your cache?\\n                                        \\n                                            <br /><a href=\"/guides/clear-cache-history-cookies/faq/is-it-safe-to-clear-cache\" class=\"read-more\">Find out if it&#x27;s ok to clear your cache</a>\\n                                        \\n                                    </p>\\n                                </li>\\n                            \\n                            </ul>\\n                            \\n                            <div class=\"link-group-footer\">\\n                                <a href=\"/guides/clear-cache-history-cookies/faq/\">Read more about clearing cache...</a>\\n                            </div>\\n                            \\n                        </section>\\n\\n\\n    \\n\\n\\n\\n                        <section class=\"link-group related-articles\">\\n                            <h2><a href=\"/guides/how-to-update-your-browser/\">Update my web browser</a></h2>\\n\\n                            <ul>\\n                            \\n                                <li>\\n                                    <h3><a href=\"/\">Do I need to update my browser?</a></h3>\\n                                    <p>Find out if your browser is out of date\\n                                        \\n                                            <br /><a href=\"/\" class=\"read-more\">Is my browser out of date?</a>\\n                                        \\n                                    </p>\\n                                </li>\\n                            \\n                                <li>\\n                                    <h3><a href=\"/guides/how-to-update-your-browser/faq/why-should-i-update-my-web-browser\">Why should I update my browser?</a></h3>\\n                                    <p>There are very good reasons to, find out here!\\n                                        \\n                                            <br /><a href=\"/guides/how-to-update-your-browser/faq/why-should-i-update-my-web-browser\" class=\"read-more\">Why update your browser?</a>\\n                                        \\n                                    </p>\\n                                </li>\\n                            \\n                                <li>\\n                                    <h3><a href=\"/guides/how-to-update-your-browser/faq/is-it-free-to-update-chrome\">Is it free to update Chrome?</a></h3>\\n                                    <p>Find out about the cost of updating Chrome...\\n                                        \\n                                            <br /><a href=\"/guides/how-to-update-your-browser/faq/is-it-free-to-update-chrome\" class=\"read-more\">Does Chrome cost anything?</a>\\n                                        \\n                                    </p>\\n                                </li>\\n                            \\n                                <li>\\n                                    <h3><a href=\"/guides/how-to-update-your-browser/faq/what-does-update-browser-mean\">What does &quot;Update browser&quot; mean?</a></h3>\\n                                    <p>What does it actually mean?\\n                                        \\n                                            <br /><a href=\"/guides/how-to-update-your-browser/faq/what-does-update-browser-mean\" class=\"read-more\">What does it mean to update your browser</a>\\n                                        \\n                                    </p>\\n                                </li>\\n                            \\n                            </ul>\\n                            \\n                            <div class=\"link-group-footer\">\\n                                <a href=\"/guides/how-to-update-your-browser/faq/\">Read more about updating your browser...</a>\\n                            </div>\\n                            \\n                        </section>\\n\\n\\n    \\n\\n\\n                        <section class=\"link-group related-articles\">\\n                            <h2><a href=\"/guides/\">Get help with our guides</a></h2>\\n\\n                            <ul>\\n                            \\n                                <li>\\n                                    <h3><a href=\"/guides/how-to-enable-javascript/\">How to enable JavaScript</a></h3>\\n                                    <p>Change your JavaScript settings\\n                                        \\n                                            <br /><a href=\"/guides/how-to-enable-javascript/\" class=\"read-more\">Guide to enabling Javascript</a>\\n                                        \\n                                    </p>\\n                                </li>\\n                            \\n                                <li>\\n                                    <h3><a href=\"/guides/how-to-enable-cookies/\">How to enable Cookies</a></h3>\\n                                    <p>Configure your cookie settings for privacy\\n                                        \\n                                            <br /><a href=\"/guides/how-to-enable-cookies/\" class=\"read-more\">Guide to enabling cookies</a>\\n                                        \\n                                    </p>\\n                                </li>\\n                            \\n                            </ul>\\n                            \\n                        </section>\\n\\n\\n    \\n\\n\\n    \\n                        <div class=\"fun fun-adsense fun-responsive\">\\n                            <div class=\"fun-inner\">\\n                            \\n                            \\n                                <!-- WIMB: Extra Column 02 -->\\n                                <ins class=\"adsbygoogle\"\\n                                     style=\"display:block\"\\n                                     data-ad-client=\"ca-pub-8548565564007782\"\\n                                     data-ad-slot=\"2818370829\"\\n                                     data-ad-format=\"auto\"\\n                                     data-full-width-responsive=\"true\"></ins>\\n                                <script>\\n                                (adsbygoogle = window.adsbygoogle || []).push({});\\n                                </script>\\n                            \\n                            </div>\\n                            \\n                                <div class=\"fun-info-footer\">Ads by Google</div>\\n                            \\n                        </div>\\n    \\n\\n\\n\\n    \\n\\n    \\n\\n\\n    \\n\\n\\n                        <section class=\"link-group related-articles\">\\n                            <h2><a href=\"/guides/\">Related articles</a></h2>\\n\\n                            <ul>\\n                            \\n                                <li>\\n                                    <h3><a href=\"/guides/troubleshooting/website/cant-log-in\">I can&#x27;t log in to a website.</a></h3>\\n                                    <p>We\\'ve got a detailed guide to help you solve login problems\\n                                        \\n                                            <br /><a href=\"/guides/troubleshooting/website/cant-log-in\" class=\"read-more\">How to fix website log in problems</a>\\n                                        \\n                                    </p>\\n                                </li>\\n                            \\n                                <li>\\n                                    <h3><a href=\"/guides/how-to-enable-cookies/faq/why-do-websites-use-cookies\">Why do websites use cookies?</a></h3>\\n                                    <p>Why are cookies useful? Do you need them?\\n                                        \\n                                            <br /><a href=\"/guides/how-to-enable-cookies/faq/why-do-websites-use-cookies\" class=\"read-more\">What&#x27;s the deal with cookies?</a>\\n                                        \\n                                    </p>\\n                                </li>\\n                            \\n                                <li>\\n                                    <h3><a href=\"/guides/how-to-update-your-browser/\">How to update your browser</a></h3>\\n                                    <p>Old software puts you at risk.\\n                                        \\n                                            <br /><a href=\"/guides/how-to-update-your-browser/\" class=\"read-more\">Keep your browser fresh and up to date</a>\\n                                        \\n                                    </p>\\n                                </li>\\n                            \\n                                <li>\\n                                    <h3><a href=\"/guides/clear-cache-history-cookies/\">Clear Cache, Cookies and History</a></h3>\\n                                    <p>How to reset your browsing history\\n                                        \\n                                            <br /><a href=\"/guides/clear-cache-history-cookies/\" class=\"read-more\">How to reset your browser</a>\\n                                        \\n                                    </p>\\n                                </li>\\n                            \\n                                <li>\\n                                    <h3><a href=\"/guides/how-to-try-a-different-web-browser/\">Try a different web browser</a></h3>\\n                                    <p>Different web browsers have different features - try a different one to see if you prefer it.\\n                                        \\n                                            <br /><a href=\"/guides/how-to-try-a-different-web-browser/\" class=\"read-more\">Experiment a bit!</a>\\n                                        \\n                                    </p>\\n                                </li>\\n                            \\n                                <li>\\n                                    <h3><a href=\"https://go.nordvpn.net/aff_c?offer_id=252&amp;aff_id=8126&amp;url_id=1020\" target=\"_blank\">Use a VPN to hide your IP address</a></h3>\\n                                    <p>We recommend <a href=\"https://nordvpn.com/what-is-a-vpn/\" target=\"_blank\" >NordVPN</a> to hide your IP address or to unblock websites.\\n                                        \\n                                            <br /><a href=\"https://go.nordvpn.net/aff_c?offer_id=252&amp;aff_id=8126&amp;url_id=1020\" class=\"read-more\" target=\"_blank\">Hide your IP Address</a>\\n                                        \\n                                    </p>\\n                                </li>\\n                            \\n                            </ul>\\n                            \\n                        </section>\\n\\n\\n\\n\\n                    </div>\\n                </div>\\n            </section>\\n\\n\\n\\n            \\n\\n            \\n\\n\\n\\n        </div><!-- end of #content-base -->\\n\\n        \\n        <footer aria-label=\"Page footer, contains various helpful links.\">\\n            <div class=\"main-columns\">\\n                \\n\\n                <div class=\"col\">\\n                    <h2><a href=\"/guides/\">Guides</a></h2>\\n                        <ul>\\n                            <li><a href=\"/guides/clear-cache-history-cookies/\">Clear Cache, History and Cookies</a></li>\\n                            <li><a href=\"/search/\">Search whatismybrowser.com</a></li>\\n                            \\n                            <li><a href=\"/guides/\">Guides about the Internet</a></li>\\n                            <li><a href=\"/guides/how-to-update-your-browser/faq/why-should-i-update-my-web-browser\">Why update my browser?</a></li>\\n                        </ul>\\n                </div>\\n                <div class=\"col\">\\n                    <h2><a href=\"/developers/tools/\">Tools</a></h2>\\n                        <ul>\\n                            <li><a href=\"/developers/tools/iframe\">Use our IFrame on your site</a></li>\\n                            <li><a href=\"https://explore.whatismybrowser.com/useragents/parse/\">User agent parser</a></li>\\n                            <li><a href=\"/developers/tools/send-to-tech-help\">Send browser info via email</a></li>\\n                            <li><a href=\"/minimum-system-requirements/\">Minimum System Requirements</a></li>\\n                        </ul>\\n                </div>\\n                <div class=\"col\">\\n                    <h2><a href=\"https://developers.whatismybrowser.com/\">Developers</a></h2>\\n                        <ul>\\n                            <li><a href=\"/guides/the-latest-user-agent/\">Latest user agents</a></li>\\n                            <li><a href=\"https://developers.whatismybrowser.com/api/\">User Agent Parsing API</a></li>\\n                            <li><a href=\"https://explore.whatismybrowser.com/useragents/explore/\">Explore User Agents</a></li>\\n                            <li><a href=\"/faq/\">Frequently Asked Questions</a></li>\\n                        </ul>\\n                </div>\\n                <div class=\"col\">\\n                    <h2>Connect</h2>\\n                        <ul>\\n                            <li><a href=\"/about/\">About Us</a></li>\\n                            <li><a href=\"/about/contact/\">Contact Us</a></li>\\n                            \\n                            <li><a href=\"https://status.whatismybrowser.com/\">Status</a></li>\\n                            <li><a href=\"/about/media/\">Media Kit</a></li>\\n                        </ul>\\n                </div>\\n            </div>\\n\\n            \\n\\n\\n            <section class=\"section-block section-block-main-only section-choose-language\">\\n                <div class=\"corset\">\\n                    <div class=\"content-block-main\">\\n\\n                    <h2>Other languages</h2>\\n\\n                    \\n                    <ul id=\"translation-options\">\\n                        \\n                        <li><a href=\"/\">What is my browser?</a></li>\\n                        \\n                        <li><a href=\"/el/\">What is my browser?</a></li>\\n                        \\n                        <li><a href=\"/fr/\">Quel est mon navigateur ?</a></li>\\n                        \\n                        <li><a href=\"/de/\">Was ist mein Browser?</a></li>\\n                        \\n                        <li><a href=\"/es/\">\\xc2\\xbfCual es mi navegador?</a></li>\\n                        \\n                        <li><a href=\"/pt/\">Qual \\xc3\\xa9 o meu navegador?</a></li>\\n                        \\n                        <li><a href=\"/sk/\">Ak\\xc3\\xbd m\\xc3\\xa1m prehliada\\xc4\\x8d?</a></li>\\n                        \\n                    </ul>\\n\\n                    <p>If you have any feedback or corrections, please let us know.</p>\\n                    <p><a href=\"/about/team/translators\">Help translate whatismybrowser.com</a></p>\\n\\n                    \\n\\n                    </div>\\n                </div>\\n            </section>\\n\\n\\n\\n            <div class=\"info\">\\n                <a href=\"/about/accessibility\">Accessibility Statement</a>\\n            </div>\\n\\n            <div class=\"legal\">\\n                <a href=\"/\">WhatIsMyBrowser.com</a> &copy; 2010 - 2023. <a href=\"/about/legal/\">Legal</a><br />\\n            </div>\\n\\n        </footer>\\n\\n\\n        \\n\\n\\n        \\n\\n        <!-- Values from the parse, to help the frontend detection -->\\n        <!-- Please don\\'t scrape these, use the API! You\\'ll get even more detail and you\\'ll also help the project! -->\\n        <script>\\n\\n            var detection_helper_software_name_code = \"python-requests-library\";\\n            var detection_helper_software_name = \"Python Requests Library\";\\n            \\n            \\n\\n        </script>\\n\\n\\n\\n\\n        \\n        \\n                \\n\\n        <script>\\n            var third_party_domain = \"webbrowsertests.com\"; // which server do third-party checks use?\\n        </script>\\n\\n        \\n\\n        \\n        <script defer src=\"https://cdn.whatismybrowser.com/prod-website/static/main/js/site.min.js?cb=1689557877\"></script>\\n        \\n\\n        \\n\\n\\n        \\n\\n\\n        \\n        \\n        \\n\\n    </body>\\n</html>\\n'"
      ]
     },
     "execution_count": 3,
     "metadata": {},
     "output_type": "execute_result"
    }
   ],
   "source": [
    "page.content"
   ]
  },
  {
   "cell_type": "code",
   "execution_count": 4,
   "metadata": {
    "executionInfo": {
     "elapsed": 255,
     "status": "ok",
     "timestamp": 1695202382008,
     "user": {
      "displayName": "`",
      "userId": "02799889750924565863"
     },
     "user_tz": -120
    },
    "id": "weFLTW6qAqVl"
   },
   "outputs": [],
   "source": [
    "with open(r'requests.html', 'wb') as f:\n",
    "    f.write(page.content)"
   ]
  },
  {
   "cell_type": "code",
   "execution_count": 5,
   "metadata": {
    "colab": {
     "base_uri": "https://localhost:8080/"
    },
    "executionInfo": {
     "elapsed": 272,
     "status": "ok",
     "timestamp": 1695202543539,
     "user": {
      "displayName": "`",
      "userId": "02799889750924565863"
     },
     "user_tz": -120
    },
    "id": "BnQcwG-t8b5N",
    "outputId": "b5d1b529-d10f-4716-9a52-38cb41376682"
   },
   "outputs": [
    {
     "data": {
      "text/plain": [
       "{'User-Agent': 'python-requests/2.28.1', 'Accept-Encoding': 'gzip, deflate, br', 'Accept': '*/*', 'Connection': 'keep-alive'}"
      ]
     },
     "execution_count": 5,
     "metadata": {},
     "output_type": "execute_result"
    }
   ],
   "source": [
    "page.request.headers"
   ]
  },
  {
   "cell_type": "markdown",
   "metadata": {
    "id": "Pq2W5Sez7wge"
   },
   "source": [
    "## Task 4\n",
    "\n",
    "Visit the Bank of America demo account\n",
    "\n",
    "https://message.bankofamerica.com/onlinebanking_demo/OLB_Simulator/App\n",
    "\n",
    "1. inspect the webpage\n",
    "2. change the account owner to your own name\n",
    "3. change your balance\n",
    "4. (send screenshots to your friends)"
   ]
  }
 ],
 "metadata": {
  "colab": {
   "provenance": [
    {
     "file_id": "1CXDTF-PRUaPPrKDJNfVNZb8IzDfYFn0L",
     "timestamp": 1661852203768
    }
   ]
  },
  "kernelspec": {
   "display_name": "Python 3 (ipykernel)",
   "language": "python",
   "name": "python3"
  },
  "language_info": {
   "codemirror_mode": {
    "name": "ipython",
    "version": 3
   },
   "file_extension": ".py",
   "mimetype": "text/x-python",
   "name": "python",
   "nbconvert_exporter": "python",
   "pygments_lexer": "ipython3",
   "version": "3.10.12"
  }
 },
 "nbformat": 4,
 "nbformat_minor": 1
}
