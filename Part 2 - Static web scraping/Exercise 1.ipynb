{
 "cells": [
  {
   "cell_type": "markdown",
   "metadata": {
    "id": "YbhgZyd8Xw-m"
   },
   "source": [
    "# Exercise - Static web scraping 1\n",
    "\n",
    "Author: Jun Sun (jun.sun@gesis.org)"
   ]
  },
  {
   "cell_type": "markdown",
   "metadata": {
    "id": "8r_Ff7fJS4Y1"
   },
   "source": [
    "## Import modules and set up environment"
   ]
  },
  {
   "cell_type": "code",
   "execution_count": null,
   "metadata": {
    "id": "-rotZeFJS4Y2"
   },
   "outputs": [],
   "source": [
    "# Package query and download from web resources! Alternatives: URLlib2, URLlib3\n",
    "import requests\n",
    "\n",
    "# Speaking of, we can manipulate URLs easily with urllib\n",
    "import urllib"
   ]
  },
  {
   "cell_type": "markdown",
   "metadata": {
    "id": "KhIQQjqRS4ZR"
   },
   "source": [
    "## Task 1\n",
    "1. go to an online html editor, e.g., https://jsbin.com/, https://html5-editor.net/\n",
    "2. copy-paste the examples in the slides\n",
    "3. make the first word of the first line bold\n",
    "4. add a link to from page to google’s homepage\n",
    "\n"
   ]
  },
  {
   "cell_type": "markdown",
   "metadata": {
    "id": "ddkqK6ER3fzu"
   },
   "source": [
    "### Bonus\n",
    "1. create 2 pages locally\n",
    "2. save them both\n",
    "3. link from the first to the second\n",
    "4. check that the link works"
   ]
  },
  {
   "cell_type": "markdown",
   "metadata": {
    "id": "zuTK5AvD_o8V"
   },
   "source": [
    "## Task 2\n",
    "\n",
    "Find out can you scrape financial data from google finance?\n",
    "\n",
    "https://www.google.com/robots.txt"
   ]
  },
  {
   "cell_type": "markdown",
   "metadata": {
    "id": "gtZJ6kGH5CPC"
   },
   "source": [
    "## Task 3\n",
    "\n",
    "Visit this URL\n",
    "\n",
    "https://www.whatismybrowser.com/detect/what-http-headers-is-my-browser-sending\n",
    "\n",
    "1. in a browser in your laptop\n",
    "2. with a mobile browser\n",
    "3. with `requests` in Python\n",
    "\n",
    "Compare the result, esp. the user agent."
   ]
  },
  {
   "cell_type": "code",
   "execution_count": null,
   "metadata": {
    "id": "jJ6Ih2Fe5SY-"
   },
   "outputs": [],
   "source": []
  },
  {
   "cell_type": "markdown",
   "metadata": {
    "id": "Pq2W5Sez7wge"
   },
   "source": [
    "## Task 4\n",
    "\n",
    "Visit the Bank of America demo account\n",
    "\n",
    "https://message.bankofamerica.com/onlinebanking_demo/OLB_Simulator\n",
    "\n",
    "1. inspect the webpage\n",
    "2. change the account owner to your own name\n",
    "3. change your balance\n",
    "4. (send screenshots to your friends)"
   ]
  },
  {
   "cell_type": "code",
   "execution_count": null,
   "metadata": {
    "id": "TPtGqzi_Lews"
   },
   "outputs": [],
   "source": []
  },
  {
   "cell_type": "markdown",
   "metadata": {
    "id": "k_m08x-hcMVr"
   },
   "source": [
    "## If you still have time, [w3school](https://www.w3schools.com/html/html_exercises.asp) is a perfect place to learn HTML/CSS stuffs with exercises."
   ]
  }
 ],
 "metadata": {
  "colab": {
   "provenance": [
    {
     "file_id": "1CXDTF-PRUaPPrKDJNfVNZb8IzDfYFn0L",
     "timestamp": 1661852203768
    }
   ]
  },
  "kernelspec": {
   "display_name": "Python 3 (ipykernel)",
   "language": "python",
   "name": "python3"
  },
  "language_info": {
   "codemirror_mode": {
    "name": "ipython",
    "version": 3
   },
   "file_extension": ".py",
   "mimetype": "text/x-python",
   "name": "python",
   "nbconvert_exporter": "python",
   "pygments_lexer": "ipython3",
   "version": "3.10.12"
  }
 },
 "nbformat": 4,
 "nbformat_minor": 1
}
