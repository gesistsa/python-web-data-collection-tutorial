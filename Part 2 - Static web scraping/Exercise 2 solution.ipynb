{
 "cells": [
  {
   "cell_type": "markdown",
   "metadata": {
    "id": "8r_Ff7fJS4Y1"
   },
   "source": [
    "# Exercise - Static web scraping 2\n",
    "\n",
    "Author: Jun Sun (jun.sun@gesis.org)"
   ]
  },
  {
   "cell_type": "markdown",
   "metadata": {
    "id": "wYnIyDWnpTkF"
   },
   "source": [
    "## Import modules and set up environment"
   ]
  },
  {
   "cell_type": "code",
   "execution_count": 1,
   "metadata": {
    "executionInfo": {
     "elapsed": 267,
     "status": "ok",
     "timestamp": 1695213486225,
     "user": {
      "displayName": "`",
      "userId": "02799889750924565863"
     },
     "user_tz": -120
    },
    "id": "-rotZeFJS4Y2"
   },
   "outputs": [],
   "source": [
    "# Package query and download from web resources! Alternatives: URLlib2, URLlib3\n",
    "import requests\n",
    "\n",
    "# Speaking of, we can manipulate URLs easily with urllib\n",
    "import urllib\n",
    "\n",
    "# If you want HTML to make sense, you need soup\n",
    "from bs4 import BeautifulSoup\n",
    "\n",
    "# Avoids scroll-in-the-scroll in the entire Notebook\n",
    "from IPython.display import Javascript, HTML\n",
    "if 'google.colab' in str(get_ipython()):\n",
    "    def resize_colab_cell():\n",
    "      display(Javascript('google.colab.output.setIframeHeight(0, true, {maxHeight: 300})'))\n",
    "    get_ipython().events.register('pre_run_cell', resize_colab_cell)"
   ]
  },
  {
   "cell_type": "markdown",
   "metadata": {
    "id": "KhIQQjqRS4ZR"
   },
   "source": [
    "## Task 1\n",
    "http://quotes.toscrape.com is a website that lists quotes from famous people.\n",
    "\n",
    "1. Get this webpage into Beautiful soup and inspect it using .prettify(): http://quotes.toscrape.com/tag/classic/\n",
    "2. Retrieve only the html of the rows containing the authors\n",
    "3. Retrieve all quotes with the tag \"friendship\", and print them with their authors\n",
    "4. How to retrieve all quotes with two given tags X and Y? Think about the concept/plan, code is not needed.\n"
   ]
  },
  {
   "cell_type": "markdown",
   "metadata": {
    "id": "IWxp6gPjS4ZS"
   },
   "source": [
    "### Solution"
   ]
  },
  {
   "cell_type": "markdown",
   "metadata": {
    "id": "jp8CTUtXS4ZS"
   },
   "source": [
    "##### first"
   ]
  },
  {
   "cell_type": "code",
   "execution_count": 2,
   "metadata": {
    "colab": {
     "base_uri": "https://localhost:8080/",
     "height": 17
    },
    "executionInfo": {
     "elapsed": 286,
     "status": "ok",
     "timestamp": 1695213876717,
     "user": {
      "displayName": "`",
      "userId": "02799889750924565863"
     },
     "user_tz": -120
    },
    "id": "WASCSlIES4ZT",
    "outputId": "1684879b-5958-4635-d899-049a051fe8ae"
   },
   "outputs": [],
   "source": [
    "# construct a request and load the content to beautifulsoup\n",
    "page = requests.get(\"http://quotes.toscrape.com/tag/classic/\")\n",
    "soup2 = BeautifulSoup(page.content, 'html.parser')"
   ]
  },
  {
   "cell_type": "code",
   "execution_count": 3,
   "metadata": {
    "colab": {
     "base_uri": "https://localhost:8080/",
     "height": 300
    },
    "executionInfo": {
     "elapsed": 307,
     "status": "ok",
     "timestamp": 1695213896597,
     "user": {
      "displayName": "`",
      "userId": "02799889750924565863"
     },
     "user_tz": -120
    },
    "id": "ktOXIIftS4ZT",
    "outputId": "e9618f92-4a97-438b-8609-8cd08ddaf3f6",
    "scrolled": true
   },
   "outputs": [
    {
     "name": "stdout",
     "output_type": "stream",
     "text": [
      "<!DOCTYPE html>\n",
      "<html lang=\"en\">\n",
      " <head>\n",
      "  <meta charset=\"utf-8\"/>\n",
      "  <title>\n",
      "   Quotes to Scrape\n",
      "  </title>\n",
      "  <link href=\"/static/bootstrap.min.css\" rel=\"stylesheet\"/>\n",
      "  <link href=\"/static/main.css\" rel=\"stylesheet\"/>\n",
      " </head>\n",
      " <body>\n",
      "  <div class=\"container\">\n",
      "   <div class=\"row header-box\">\n",
      "    <div class=\"col-md-8\">\n",
      "     <h1>\n",
      "      <a href=\"/\" style=\"text-decoration: none\">\n",
      "       Quotes to Scrape\n",
      "      </a>\n",
      "     </h1>\n",
      "    </div>\n",
      "    <div class=\"col-md-4\">\n",
      "     <p>\n",
      "      <a href=\"/login\">\n",
      "       Login\n",
      "      </a>\n",
      "     </p>\n",
      "    </div>\n",
      "   </div>\n",
      "   <h3>\n",
      "    Viewing tag:\n",
      "    <a href=\"/tag/classic/page/1/\">\n",
      "     classic\n",
      "    </a>\n",
      "   </h3>\n",
      "   <div class=\"row\">\n",
      "    <div class=\"col-md-8\">\n",
      "     <div class=\"quote\" itemscope=\"\" itemtype=\"http://schema.org/CreativeWork\">\n",
      "      <span class=\"text\" itemprop=\"text\">\n",
      "       “The person, be it gentleman or lady, who has not pleasure in a good novel, must be intolerably stupid.”\n",
      "      </span>\n",
      "      <span>\n",
      "       by\n",
      "       <small class=\"author\" itemprop=\"author\">\n",
      "        Jane Austen\n",
      "       </small>\n",
      "       <a href=\"/author/Jane-Austen\">\n",
      "        (about)\n",
      "       </a>\n",
      "      </span>\n",
      "      <div class=\"tags\">\n",
      "       Tags:\n",
      "       <meta class=\"keywords\" content=\"aliteracy,books,classic,humor\" itemprop=\"keywords\"/>\n",
      "       <a class=\"tag\" href=\"/tag/aliteracy/page/1/\">\n",
      "        aliteracy\n",
      "       </a>\n",
      "       <a class=\"tag\" href=\"/tag/books/page/1/\">\n",
      "        books\n",
      "       </a>\n",
      "       <a class=\"tag\" href=\"/tag/classic/page/1/\">\n",
      "        classic\n",
      "       </a>\n",
      "       <a class=\"tag\" href=\"/tag/humor/page/1/\">\n",
      "        humor\n",
      "       </a>\n",
      "      </div>\n",
      "     </div>\n",
      "     <div class=\"quote\" itemscope=\"\" itemtype=\"http://schema.org/CreativeWork\">\n",
      "      <span class=\"text\" itemprop=\"text\">\n",
      "       “′Classic′ - a book which people praise and don't read.”\n",
      "      </span>\n",
      "      <span>\n",
      "       by\n",
      "       <small class=\"author\" itemprop=\"author\">\n",
      "        Mark Twain\n",
      "       </small>\n",
      "       <a href=\"/author/Mark-Twain\">\n",
      "        (about)\n",
      "       </a>\n",
      "      </span>\n",
      "      <div class=\"tags\">\n",
      "       Tags:\n",
      "       <meta class=\"keywords\" content=\"books,classic,reading\" itemprop=\"keywords\"/>\n",
      "       <a class=\"tag\" href=\"/tag/books/page/1/\">\n",
      "        books\n",
      "       </a>\n",
      "       <a class=\"tag\" href=\"/tag/classic/page/1/\">\n",
      "        classic\n",
      "       </a>\n",
      "       <a class=\"tag\" href=\"/tag/reading/page/1/\">\n",
      "        reading\n",
      "       </a>\n",
      "      </div>\n",
      "     </div>\n",
      "     <nav>\n",
      "      <ul class=\"pager\">\n",
      "      </ul>\n",
      "     </nav>\n",
      "    </div>\n",
      "    <div class=\"col-md-4 tags-box\">\n",
      "     <h2>\n",
      "      Top Ten tags\n",
      "     </h2>\n",
      "     <span class=\"tag-item\">\n",
      "      <a class=\"tag\" href=\"/tag/love/\" style=\"font-size: 28px\">\n",
      "       love\n",
      "      </a>\n",
      "     </span>\n",
      "     <span class=\"tag-item\">\n",
      "      <a class=\"tag\" href=\"/tag/inspirational/\" style=\"font-size: 26px\">\n",
      "       inspirational\n",
      "      </a>\n",
      "     </span>\n",
      "     <span class=\"tag-item\">\n",
      "      <a class=\"tag\" href=\"/tag/life/\" style=\"font-size: 26px\">\n",
      "       life\n",
      "      </a>\n",
      "     </span>\n",
      "     <span class=\"tag-item\">\n",
      "      <a class=\"tag\" href=\"/tag/humor/\" style=\"font-size: 24px\">\n",
      "       humor\n",
      "      </a>\n",
      "     </span>\n",
      "     <span class=\"tag-item\">\n",
      "      <a class=\"tag\" href=\"/tag/books/\" style=\"font-size: 22px\">\n",
      "       books\n",
      "      </a>\n",
      "     </span>\n",
      "     <span class=\"tag-item\">\n",
      "      <a class=\"tag\" href=\"/tag/reading/\" style=\"font-size: 14px\">\n",
      "       reading\n",
      "      </a>\n",
      "     </span>\n",
      "     <span class=\"tag-item\">\n",
      "      <a class=\"tag\" href=\"/tag/friendship/\" style=\"font-size: 10px\">\n",
      "       friendship\n",
      "      </a>\n",
      "     </span>\n",
      "     <span class=\"tag-item\">\n",
      "      <a class=\"tag\" href=\"/tag/friends/\" style=\"font-size: 8px\">\n",
      "       friends\n",
      "      </a>\n",
      "     </span>\n",
      "     <span class=\"tag-item\">\n",
      "      <a class=\"tag\" href=\"/tag/truth/\" style=\"font-size: 8px\">\n",
      "       truth\n",
      "      </a>\n",
      "     </span>\n",
      "     <span class=\"tag-item\">\n",
      "      <a class=\"tag\" href=\"/tag/simile/\" style=\"font-size: 6px\">\n",
      "       simile\n",
      "      </a>\n",
      "     </span>\n",
      "    </div>\n",
      "   </div>\n",
      "  </div>\n",
      "  <footer class=\"footer\">\n",
      "   <div class=\"container\">\n",
      "    <p class=\"text-muted\">\n",
      "     Quotes by:\n",
      "     <a href=\"https://www.goodreads.com/quotes\">\n",
      "      GoodReads.com\n",
      "     </a>\n",
      "    </p>\n",
      "    <p class=\"copyright\">\n",
      "     Made with\n",
      "     <span class=\"zyte\">\n",
      "      ❤\n",
      "     </span>\n",
      "     by\n",
      "     <a class=\"zyte\" href=\"https://www.zyte.com\">\n",
      "      Zyte\n",
      "     </a>\n",
      "    </p>\n",
      "   </div>\n",
      "  </footer>\n",
      " </body>\n",
      "</html>\n",
      "\n"
     ]
    }
   ],
   "source": [
    "# print the content nicely\n",
    "print(soup2.prettify())"
   ]
  },
  {
   "cell_type": "markdown",
   "metadata": {
    "id": "Cpj-bZ4TpqP8"
   },
   "source": [
    "##### second"
   ]
  },
  {
   "cell_type": "code",
   "execution_count": 4,
   "metadata": {
    "colab": {
     "base_uri": "https://localhost:8080/",
     "height": 53
    },
    "executionInfo": {
     "elapsed": 4,
     "status": "ok",
     "timestamp": 1695213947295,
     "user": {
      "displayName": "`",
      "userId": "02799889750924565863"
     },
     "user_tz": -120
    },
    "id": "5v8CJzn5S4ZT",
    "outputId": "244569f8-34e6-4dd3-a303-4b6ae79aa102"
   },
   "outputs": [
    {
     "data": {
      "text/plain": [
       "[<small class=\"author\" itemprop=\"author\">Jane Austen</small>,\n",
       " <small class=\"author\" itemprop=\"author\">Mark Twain</small>]"
      ]
     },
     "execution_count": 4,
     "metadata": {},
     "output_type": "execute_result"
    }
   ],
   "source": [
    "# find the elements with class \"author\"\n",
    "soup2.find_all(class_=\"author\")"
   ]
  },
  {
   "cell_type": "code",
   "execution_count": 5,
   "metadata": {
    "colab": {
     "base_uri": "https://localhost:8080/",
     "height": 53
    },
    "executionInfo": {
     "elapsed": 309,
     "status": "ok",
     "timestamp": 1695213978116,
     "user": {
      "displayName": "`",
      "userId": "02799889750924565863"
     },
     "user_tz": -120
    },
    "id": "fL5FAZ86S4ZU",
    "outputId": "57d9d0da-10e4-455f-86f7-570830dcfc09"
   },
   "outputs": [
    {
     "data": {
      "text/plain": [
       "[<small class=\"author\" itemprop=\"author\">Jane Austen</small>,\n",
       " <small class=\"author\" itemprop=\"author\">Mark Twain</small>]"
      ]
     },
     "execution_count": 5,
     "metadata": {},
     "output_type": "execute_result"
    }
   ],
   "source": [
    "# alternatively\n",
    "soup2.select(\".author\")"
   ]
  },
  {
   "cell_type": "markdown",
   "metadata": {
    "id": "X2FBOg_gS4ZU"
   },
   "source": [
    "##### third"
   ]
  },
  {
   "cell_type": "code",
   "execution_count": 6,
   "metadata": {
    "colab": {
     "base_uri": "https://localhost:8080/",
     "height": 17
    },
    "executionInfo": {
     "elapsed": 356,
     "status": "ok",
     "timestamp": 1695214102323,
     "user": {
      "displayName": "`",
      "userId": "02799889750924565863"
     },
     "user_tz": -120
    },
    "id": "epF0JGzDS4ZU",
    "outputId": "6feee069-5d6f-42b1-99a2-6f48bbd92cd5"
   },
   "outputs": [],
   "source": [
    "# construct a request and load the content to beautifulsoup\n",
    "page_friendship = requests.get(\"http://quotes.toscrape.com/tag/friendship/\")\n",
    "soup_friendship = BeautifulSoup(page_friendship.content, 'html.parser')"
   ]
  },
  {
   "cell_type": "code",
   "execution_count": 7,
   "metadata": {
    "colab": {
     "base_uri": "https://localhost:8080/",
     "height": 128
    },
    "executionInfo": {
     "elapsed": 266,
     "status": "ok",
     "timestamp": 1695214180197,
     "user": {
      "displayName": "`",
      "userId": "02799889750924565863"
     },
     "user_tz": -120
    },
    "id": "IfPdFaJ4rtYk",
    "outputId": "91c8ceb0-6a07-47d0-fa39-94d96173d502"
   },
   "outputs": [
    {
     "name": "stdout",
     "output_type": "stream",
     "text": [
      "“It is not a lack of love, but a lack of friendship that makes unhappy marriages.” - Friedrich Nietzsche\n",
      "“Good friends, good books, and a sleepy conscience: this is the ideal life.” - Mark Twain\n",
      "“The truth is, everyone is going to hurt you. You just got to find the ones worth suffering for.” - Bob Marley\n",
      "“There is nothing I would not do for those who are really my friends. I have no notion of loving people by halves, it is not my nature.” - Jane Austen\n",
      "“If I had a flower for every time I thought of you...I could walk through my garden forever.” - Alfred Tennyson\n"
     ]
    }
   ],
   "source": [
    "for quote in soup_friendship.select(\".quote\"):\n",
    "  print(quote.select_one(\".text\").text, '-', quote.select_one(\".author\").text)"
   ]
  },
  {
   "cell_type": "markdown",
   "metadata": {
    "id": "VuJ-KqzPS4ZU"
   },
   "source": [
    "##### fourth\n",
    "- Retrieve the first page of quotes with tag X. The URL of the first page should be \"http://quotes.toscrape.com/tag/X/\"\n",
    "- If there are multiple pages, also retrieve them. The URL of the nth page should be \"http://quotes.toscrape.com/tag/X/page/n\"\n",
    "- Examine the retrieved quotes and filter with tag Y."
   ]
  },
  {
   "cell_type": "markdown",
   "metadata": {
    "id": "zuTK5AvD_o8V"
   },
   "source": [
    "## Task 2\n",
    "\n",
    "Starting from the URL https://books.toscrape.com/catalogue/category/books/nonfiction_13/index.html, navigate through the pages listing books, and print the titles of the parsed books."
   ]
  },
  {
   "cell_type": "markdown",
   "metadata": {
    "id": "O6exYptgAQTa"
   },
   "source": [
    "### Solution"
   ]
  },
  {
   "cell_type": "code",
   "execution_count": 8,
   "metadata": {
    "colab": {
     "base_uri": "https://localhost:8080/",
     "height": 300
    },
    "executionInfo": {
     "elapsed": 332,
     "status": "ok",
     "timestamp": 1694544501867,
     "user": {
      "displayName": "`",
      "userId": "02799889750924565863"
     },
     "user_tz": -120
    },
    "id": "dpbwXfyLj70m",
    "outputId": "eb8bd5f8-ace5-44bb-9886-733bdd17376f"
   },
   "outputs": [
    {
     "name": "stdout",
     "output_type": "stream",
     "text": [
      "* fetching https://books.toscrape.com/catalogue/category/books/nonfiction_13/\n",
      "Worlds Elsewhere: Journeys Around Shakespeare’s Globe\n",
      "The Five Love Languages: How to Express Heartfelt Commitment to Your Mate\n",
      "Reasons to Stay Alive\n",
      "#HigherSelfie: Wake Up Your Life. Free Your Soul. Find Your Tribe.\n",
      "Unseen City: The Majesty of Pigeons, the Discreet Charm of Snails & Other Wonders of the Urban Wilderness\n",
      "Throwing Rocks at the Google Bus: How Growth Became the Enemy of Prosperity\n",
      "The Life-Changing Magic of Tidying Up: The Japanese Art of Decluttering and Organizing\n",
      "The Gutsy Girl: Escapades for Your Life of Epic Adventure\n",
      "The Electric Pencil: Drawings from Inside State Hospital No. 3\n",
      "Spark Joy: An Illustrated Master Class on the Art of Organizing and Tidying Up\n",
      "Reskilling America: Learning to Labor in the Twenty-First Century\n",
      "In the Country We Love: My Family Divided\n",
      "Everydata: The Misinformation Hidden in the Little Data You Consume Every Day\n",
      "Call the Nurse: True Stories of a Country Nurse on a Scottish Isle\n",
      "Algorithms to Live By: The Computer Science of Human Decisions\n",
      "The Power of Now: A Guide to Spiritual Enlightenment\n",
      "The Omnivore's Dilemma: A Natural History of Four Meals\n",
      "The Genius of Birds\n",
      "The Artist's Way: A Spiritual Path to Higher Creativity\n",
      "So You've Been Publicly Shamed\n"
     ]
    }
   ],
   "source": [
    "base_url = 'https://books.toscrape.com/catalogue/category/books/nonfiction_13/'\n",
    "\n",
    "# where you are at now\n",
    "current_page_url = 'https://books.toscrape.com/catalogue/category/books/nonfiction_13/'\n",
    "\n",
    "done = False\n",
    "while not done:\n",
    "    # print where you are now\n",
    "    print('* fetching', current_page_url)\n",
    "\n",
    "    # fetch the page and load it into beautifulsoup\n",
    "    current_page_soup = BeautifulSoup(requests.get(current_page_url).content,\n",
    "                                      'html.parser')\n",
    "\n",
    "    # find where the book title is and print it out\n",
    "    for book in current_page_soup.select(\".product_pod h3 a\"):\n",
    "        print(book['title'])\n",
    "\n",
    "    #current_book_links = extract_book_links(current_page_soup, current_page_url)\n",
    "\n",
    "    try:\n",
    "      # locate the URL to the next page\n",
    "      relative_next_page_url = current_page_soup.select(\".next a['href']\")[0]['href']\n",
    "      next_page_url = urllib.parse.urljoin(base_url, relative_next_page_url)\n",
    "      current_page_url = next_page_url\n",
    "    except:\n",
    "      # if there is no next page, we are done!\n",
    "      done=True"
   ]
  }
 ],
 "metadata": {
  "colab": {
   "provenance": [],
   "toc_visible": true
  },
  "kernelspec": {
   "display_name": "Python 3 (ipykernel)",
   "language": "python",
   "name": "python3"
  },
  "language_info": {
   "codemirror_mode": {
    "name": "ipython",
    "version": 3
   },
   "file_extension": ".py",
   "mimetype": "text/x-python",
   "name": "python",
   "nbconvert_exporter": "python",
   "pygments_lexer": "ipython3",
   "version": "3.10.12"
  }
 },
 "nbformat": 4,
 "nbformat_minor": 1
}
