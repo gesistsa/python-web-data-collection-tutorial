{
 "cells": [
  {
   "cell_type": "markdown",
   "metadata": {
    "id": "iZ_AWZ0UuZ4a"
   },
   "source": [
    "# Exercise - Static web scraping 2\n",
    "\n",
    "Author: Jun Sun (jun.sun@gesis.org)"
   ]
  },
  {
   "cell_type": "markdown",
   "metadata": {
    "id": "8r_Ff7fJS4Y1"
   },
   "source": [
    "## Import modules and set up environment"
   ]
  },
  {
   "cell_type": "code",
   "execution_count": null,
   "metadata": {
    "id": "-rotZeFJS4Y2"
   },
   "outputs": [],
   "source": [
    "# Package query and download from web resources! Alternatives: URLlib2, URLlib3\n",
    "import requests\n",
    "\n",
    "# Speaking of, we can manipulate URLs easily with urllib\n",
    "import urllib\n",
    "\n",
    "# If you want HTML to make sense, you need soup\n",
    "from bs4 import BeautifulSoup\n",
    "\n",
    "# Avoids scroll-in-the-scroll in the entire Notebook\n",
    "from IPython.display import Javascript, HTML\n",
    "if 'google.colab' in str(get_ipython()):\n",
    "    def resize_colab_cell():\n",
    "      display(Javascript('google.colab.output.setIframeHeight(0, true, {maxHeight: 300})'))\n",
    "    get_ipython().events.register('pre_run_cell', resize_colab_cell)"
   ]
  },
  {
   "cell_type": "markdown",
   "metadata": {
    "id": "KhIQQjqRS4ZR"
   },
   "source": [
    "## Task 1\n",
    "http://quotes.toscrape.com is a website that lists quotes from famous people.\n",
    "\n",
    "1. Get this webpage into Beautiful soup and inspect it using .prettify(): http://quotes.toscrape.com/tag/classic/\n",
    "2. Retrieve only the html of the rows containing the authors\n",
    "3. Retrieve all quotes with the tag \"friendship\", and print them with their authors\n",
    "4. How to retrieve all quotes with two given tags X and Y? Think about the concept/plan, code is not needed.\n"
   ]
  },
  {
   "cell_type": "markdown",
   "metadata": {
    "id": "IWxp6gPjS4ZS"
   },
   "source": [
    "### Your solution"
   ]
  },
  {
   "cell_type": "code",
   "execution_count": null,
   "metadata": {
    "id": "dSk6qcWZHemu"
   },
   "outputs": [],
   "source": []
  },
  {
   "cell_type": "markdown",
   "metadata": {
    "id": "zuTK5AvD_o8V"
   },
   "source": [
    "## Task 2\n",
    "\n",
    "Starting from the URL https://books.toscrape.com/catalogue/category/books/nonfiction_13/index.html, navigate through the pages listing books, and print the titles of the parsed books."
   ]
  },
  {
   "cell_type": "markdown",
   "metadata": {
    "id": "O6exYptgAQTa"
   },
   "source": [
    "### Your solution"
   ]
  },
  {
   "cell_type": "code",
   "execution_count": null,
   "metadata": {
    "id": "JbOTUhtjHlJC"
   },
   "outputs": [],
   "source": []
  }
 ],
 "metadata": {
  "colab": {
   "provenance": [
    {
     "file_id": "1CXDTF-PRUaPPrKDJNfVNZb8IzDfYFn0L",
     "timestamp": 1661852203768
    }
   ]
  },
  "kernelspec": {
   "display_name": "Python 3 (ipykernel)",
   "language": "python",
   "name": "python3"
  },
  "language_info": {
   "codemirror_mode": {
    "name": "ipython",
    "version": 3
   },
   "file_extension": ".py",
   "mimetype": "text/x-python",
   "name": "python",
   "nbconvert_exporter": "python",
   "pygments_lexer": "ipython3",
   "version": "3.10.12"
  }
 },
 "nbformat": 4,
 "nbformat_minor": 1
}
