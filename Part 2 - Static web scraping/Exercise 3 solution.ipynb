{
 "cells": [
  {
   "cell_type": "markdown",
   "metadata": {
    "id": "SOOwmBfQSJ_H"
   },
   "source": [
    "# Exercise - Static web scraping 3\n",
    "\n",
    "Author: Jun Sun (jun.sun@gesis.org)"
   ]
  },
  {
   "cell_type": "markdown",
   "metadata": {
    "id": "67gZQfAku9_h"
   },
   "source": [
    "## Task 1\n",
    "\n",
    "1. Install selectorlib addon in your browser\n",
    "2. Install selectorlib package in colab notebook"
   ]
  },
  {
   "cell_type": "markdown",
   "metadata": {
    "id": "FRKZvseiTIAj"
   },
   "source": [
    "## Solution"
   ]
  },
  {
   "cell_type": "code",
   "execution_count": 1,
   "metadata": {
    "colab": {
     "base_uri": "https://localhost:8080/"
    },
    "executionInfo": {
     "elapsed": 9220,
     "status": "ok",
     "timestamp": 1695220455611,
     "user": {
      "displayName": "`",
      "userId": "02799889750924565863"
     },
     "user_tz": -120
    },
    "id": "ywH9hmcaNcJ1",
    "outputId": "6e8e3f52-dd21-4145-f0ef-4fc04e105e44"
   },
   "outputs": [
    {
     "name": "stdout",
     "output_type": "stream",
     "text": [
      "Collecting selectorlib\n",
      "  Downloading selectorlib-0.16.0-py2.py3-none-any.whl (5.8 kB)\n",
      "Requirement already satisfied: Click>=6.0 in /usr/local/lib/python3.10/dist-packages (from selectorlib) (8.1.7)\n",
      "Requirement already satisfied: pyyaml>=3.12 in /usr/local/lib/python3.10/dist-packages (from selectorlib) (6.0.1)\n",
      "Collecting parsel>=1.5.1 (from selectorlib)\n",
      "  Downloading parsel-1.8.1-py2.py3-none-any.whl (17 kB)\n",
      "Collecting cssselect>=0.9 (from parsel>=1.5.1->selectorlib)\n",
      "  Downloading cssselect-1.2.0-py2.py3-none-any.whl (18 kB)\n",
      "Collecting jmespath (from parsel>=1.5.1->selectorlib)\n",
      "  Downloading jmespath-1.0.1-py3-none-any.whl (20 kB)\n",
      "Requirement already satisfied: lxml in /usr/local/lib/python3.10/dist-packages (from parsel>=1.5.1->selectorlib) (4.9.3)\n",
      "Requirement already satisfied: packaging in /usr/local/lib/python3.10/dist-packages (from parsel>=1.5.1->selectorlib) (23.1)\n",
      "Collecting w3lib>=1.19.0 (from parsel>=1.5.1->selectorlib)\n",
      "  Downloading w3lib-2.1.2-py3-none-any.whl (21 kB)\n",
      "Installing collected packages: w3lib, jmespath, cssselect, parsel, selectorlib\n",
      "Successfully installed cssselect-1.2.0 jmespath-1.0.1 parsel-1.8.1 selectorlib-0.16.0 w3lib-2.1.2\n"
     ]
    }
   ],
   "source": [
    "# install selectorlib package in colab notebook\n",
    "!pip install selectorlib"
   ]
  },
  {
   "cell_type": "code",
   "execution_count": 2,
   "metadata": {
    "executionInfo": {
     "elapsed": 533,
     "status": "ok",
     "timestamp": 1695220456137,
     "user": {
      "displayName": "`",
      "userId": "02799889750924565863"
     },
     "user_tz": -120
    },
    "id": "Oiq5TLX6Hmuo"
   },
   "outputs": [],
   "source": [
    "# import stuffs\n",
    "from selectorlib import Extractor\n",
    "import requests\n",
    "import re"
   ]
  },
  {
   "cell_type": "markdown",
   "metadata": {
    "id": "oE85OJcKUVcz"
   },
   "source": [
    "## Task 2\n",
    "\n",
    "Use selectorlib and regex to scrape information about all pokemons with tag \"overgrow\".\n",
    "\n",
    "https://scrapeme.live/product-tag/overgrow/\n",
    "\n",
    "1. Get the name and price of each pokemon with tag \"overgrow\"\n",
    "2. Get the stock level of each pokemon with tag \"overgrow\"\n",
    "3. Calculate the total value (i.e., sum of all prices)\n"
   ]
  },
  {
   "cell_type": "markdown",
   "metadata": {
    "id": "UxFX0RLXfGaV"
   },
   "source": [
    "## Solution"
   ]
  },
  {
   "cell_type": "code",
   "execution_count": 3,
   "metadata": {
    "executionInfo": {
     "elapsed": 523,
     "status": "ok",
     "timestamp": 1695220582392,
     "user": {
      "displayName": "`",
      "userId": "02799889750924565863"
     },
     "user_tz": -120
    },
    "id": "DcgQtGMbMQQ7"
   },
   "outputs": [],
   "source": [
    "# there are only two pages of pokemons\n",
    "url1 = 'https://scrapeme.live/product-tag/overgrow/'\n",
    "url2 = 'https://scrapeme.live/product-tag/overgrow/page/2/'"
   ]
  },
  {
   "cell_type": "code",
   "execution_count": 4,
   "metadata": {
    "executionInfo": {
     "elapsed": 544,
     "status": "ok",
     "timestamp": 1695220586005,
     "user": {
      "displayName": "`",
      "userId": "02799889750924565863"
     },
     "user_tz": -120
    },
    "id": "CjV2qAcsNlKd"
   },
   "outputs": [],
   "source": [
    "# yamls are created with selectorlib addon\n",
    "yaml = \"\"\"\n",
    "  product_name:\n",
    "      css: 'li.product h2.woocommerce-loop-product__title'\n",
    "      xpath: null\n",
    "      multiple: true\n",
    "      type: Text\n",
    "  price:\n",
    "      css: 'li.product span.woocommerce-Price-amount'\n",
    "      xpath: null\n",
    "      multiple: true\n",
    "      type: Text\n",
    "  link:\n",
    "      css: 'li.product a.woocommerce-LoopProduct-link'\n",
    "      xpath: null\n",
    "      multiple: true\n",
    "      type: Link\n",
    "\"\"\"\n"
   ]
  },
  {
   "cell_type": "code",
   "execution_count": 5,
   "metadata": {
    "executionInfo": {
     "elapsed": 519,
     "status": "ok",
     "timestamp": 1695220646599,
     "user": {
      "displayName": "`",
      "userId": "02799889750924565863"
     },
     "user_tz": -120
    },
    "id": "dXlUveSDNxp7"
   },
   "outputs": [],
   "source": [
    "yaml_stock = \"\"\"\n",
    "    yaml_price:\n",
    "        css: p.stock\n",
    "        xpath: null\n",
    "        type: Text\n",
    "\"\"\""
   ]
  },
  {
   "cell_type": "code",
   "execution_count": 6,
   "metadata": {
    "executionInfo": {
     "elapsed": 515,
     "status": "ok",
     "timestamp": 1695220786167,
     "user": {
      "displayName": "`",
      "userId": "02799889750924565863"
     },
     "user_tz": -120
    },
    "id": "ALVBgt5eNywq"
   },
   "outputs": [],
   "source": [
    "# create selector extractors for the pokemon and the stock level\n",
    "e = Extractor.from_yaml_string(yaml)\n",
    "e_stock = Extractor.from_yaml_string(yaml_stock)"
   ]
  },
  {
   "cell_type": "code",
   "execution_count": 7,
   "metadata": {
    "executionInfo": {
     "elapsed": 12905,
     "status": "ok",
     "timestamp": 1695220810125,
     "user": {
      "displayName": "`",
      "userId": "02799889750924565863"
     },
     "user_tz": -120
    },
    "id": "mcsZ6jP5N4sp"
   },
   "outputs": [],
   "source": [
    "# make requests\n",
    "r1 = requests.get(url1)\n",
    "r2 = requests.get(url2)"
   ]
  },
  {
   "cell_type": "code",
   "execution_count": 8,
   "metadata": {
    "executionInfo": {
     "elapsed": 725,
     "status": "ok",
     "timestamp": 1695220813923,
     "user": {
      "displayName": "`",
      "userId": "02799889750924565863"
     },
     "user_tz": -120
    },
    "id": "-ORQbnDUOYkM"
   },
   "outputs": [],
   "source": [
    "# extract information using the selectorlib extractor\n",
    "extr1 = e.extract(r1.text)\n",
    "extr2 = e.extract(r2.text)"
   ]
  },
  {
   "cell_type": "code",
   "execution_count": 9,
   "metadata": {
    "colab": {
     "base_uri": "https://localhost:8080/"
    },
    "executionInfo": {
     "elapsed": 533,
     "status": "ok",
     "timestamp": 1695220840048,
     "user": {
      "displayName": "`",
      "userId": "02799889750924565863"
     },
     "user_tz": -120
    },
    "id": "JOMBczviPm-G",
    "outputId": "6adc70c7-f8c2-451b-9c9a-b82d04dff029"
   },
   "outputs": [
    {
     "name": "stdout",
     "output_type": "stream",
     "text": [
      "['Bulbasaur', 'Ivysaur', 'Venusaur', 'Chikorita', 'Bayleef', 'Meganium', 'Treecko', 'Grovyle', 'Sceptile', 'Turtwig', 'Grotle', 'Torterra', 'Snivy', 'Servine', 'Serperior', 'Chespin', 'Quilladin', 'Chesnaught', 'Dartrix', 'Decidueye']\n",
      "['£ 63.00', '£ 87.00', '£ 105.00', '£ 127.00', '£ 44.00', '£ 163.00', '£ 96.00', '£ 190.00', '£ 37.00', '£ 101.00', '£ 154.00', '£ 87.00', '£ 102.00', '£ 154.00', '£ 88.00', '£ 185.00', '£ 161.00', '£ 96.00', '£ 169.00', '£ 106.00']\n",
      "['https://scrapeme.live/shop/Bulbasaur/', 'https://scrapeme.live/shop/Ivysaur/', 'https://scrapeme.live/shop/Venusaur/', 'https://scrapeme.live/shop/Chikorita/', 'https://scrapeme.live/shop/Bayleef/', 'https://scrapeme.live/shop/Meganium/', 'https://scrapeme.live/shop/Treecko/', 'https://scrapeme.live/shop/Grovyle/', 'https://scrapeme.live/shop/Sceptile/', 'https://scrapeme.live/shop/Turtwig/', 'https://scrapeme.live/shop/Grotle/', 'https://scrapeme.live/shop/Torterra/', 'https://scrapeme.live/shop/Snivy/', 'https://scrapeme.live/shop/Servine/', 'https://scrapeme.live/shop/Serperior/', 'https://scrapeme.live/shop/Chespin/', 'https://scrapeme.live/shop/Quilladin/', 'https://scrapeme.live/shop/Chesnaught/', 'https://scrapeme.live/shop/Dartrix/', 'https://scrapeme.live/shop/Decidueye/']\n"
     ]
    }
   ],
   "source": [
    "# get the names, prices and the URLs of the pokemons\n",
    "name_list = extr1['product_name'] + extr2['product_name']\n",
    "price_list = extr1['price'] + extr2['price']\n",
    "link_list = extr1['link'] + extr2['link']\n",
    "\n",
    "print(name_list)\n",
    "print(price_list)\n",
    "print(link_list)"
   ]
  },
  {
   "cell_type": "code",
   "execution_count": 10,
   "metadata": {
    "executionInfo": {
     "elapsed": 509,
     "status": "ok",
     "timestamp": 1695220916932,
     "user": {
      "displayName": "`",
      "userId": "02799889750924565863"
     },
     "user_tz": -120
    },
    "id": "SeDg2f-M4rKR"
   },
   "outputs": [],
   "source": [
    "# a function to get the numerical price\n",
    "def get_price(str_price):\n",
    "    # using regex to extract the numerical price\n",
    "    regex_price = re.compile(r\".\\s(\\d+\\.\\d+)\")\n",
    "    price = float(regex_price.findall(str_price)[0])\n",
    "\n",
    "    return price"
   ]
  },
  {
   "cell_type": "code",
   "execution_count": 12,
   "metadata": {
    "colab": {
     "base_uri": "https://localhost:8080/"
    },
    "executionInfo": {
     "elapsed": 575,
     "status": "ok",
     "timestamp": 1695220960653,
     "user": {
      "displayName": "`",
      "userId": "02799889750924565863"
     },
     "user_tz": -120
    },
    "id": "cqowoCHA5l-4",
    "outputId": "7fb673d5-a159-40bb-e84f-a65946fb265e"
   },
   "outputs": [
    {
     "data": {
      "text/plain": [
       "[63.0,\n",
       " 87.0,\n",
       " 105.0,\n",
       " 127.0,\n",
       " 44.0,\n",
       " 163.0,\n",
       " 96.0,\n",
       " 190.0,\n",
       " 37.0,\n",
       " 101.0,\n",
       " 154.0,\n",
       " 87.0,\n",
       " 102.0,\n",
       " 154.0,\n",
       " 88.0,\n",
       " 185.0,\n",
       " 161.0,\n",
       " 96.0,\n",
       " 169.0,\n",
       " 106.0]"
      ]
     },
     "execution_count": 12,
     "metadata": {},
     "output_type": "execute_result"
    }
   ],
   "source": [
    "prices = [ get_price(str_p) for str_p in price_list ]\n",
    "prices"
   ]
  },
  {
   "cell_type": "code",
   "execution_count": 13,
   "metadata": {
    "executionInfo": {
     "elapsed": 441,
     "status": "ok",
     "timestamp": 1695221067388,
     "user": {
      "displayName": "`",
      "userId": "02799889750924565863"
     },
     "user_tz": -120
    },
    "id": "QmM0jHfA15DO"
   },
   "outputs": [],
   "source": [
    "# a function to get the stock level value from a URL of a pokemon\n",
    "def get_stock_level_from_link(url):\n",
    "    # make a request and extract the string of the stock level\n",
    "    r = requests.get(url)\n",
    "    extr = e_stock.extract(r.text)\n",
    "    str_stock = extr['yaml_price']\n",
    "\n",
    "    # using regex to extract the stock level value\n",
    "    regex_stock = re.compile(r\"(\\d+) in stock\")\n",
    "    stock_level = regex_stock.findall(str_stock)\n",
    "    if len(stock_level) == 0:\n",
    "        return 0\n",
    "    else:\n",
    "        return int(stock_level[0])"
   ]
  },
  {
   "cell_type": "code",
   "execution_count": 14,
   "metadata": {
    "executionInfo": {
     "elapsed": 17277,
     "status": "ok",
     "timestamp": 1695221090162,
     "user": {
      "displayName": "`",
      "userId": "02799889750924565863"
     },
     "user_tz": -120
    },
    "id": "JiYBQ-yk30uM"
   },
   "outputs": [],
   "source": [
    "# get all stock level values\n",
    "stock_levels = [ get_stock_level_from_link(l) for l in link_list ]"
   ]
  },
  {
   "cell_type": "code",
   "execution_count": 16,
   "metadata": {
    "colab": {
     "base_uri": "https://localhost:8080/"
    },
    "executionInfo": {
     "elapsed": 9,
     "status": "ok",
     "timestamp": 1695221126043,
     "user": {
      "displayName": "`",
      "userId": "02799889750924565863"
     },
     "user_tz": -120
    },
    "id": "Zlha-OLqDP-8",
    "outputId": "8cfa3a6e-8e99-4707-db29-6d208c979260"
   },
   "outputs": [
    {
     "data": {
      "text/plain": [
       "([45,\n",
       "  142,\n",
       "  30,\n",
       "  98,\n",
       "  299,\n",
       "  71,\n",
       "  93,\n",
       "  195,\n",
       "  159,\n",
       "  254,\n",
       "  187,\n",
       "  146,\n",
       "  47,\n",
       "  82,\n",
       "  164,\n",
       "  267,\n",
       "  61,\n",
       "  145,\n",
       "  169,\n",
       "  268],\n",
       " [63.0,\n",
       "  87.0,\n",
       "  105.0,\n",
       "  127.0,\n",
       "  44.0,\n",
       "  163.0,\n",
       "  96.0,\n",
       "  190.0,\n",
       "  37.0,\n",
       "  101.0,\n",
       "  154.0,\n",
       "  87.0,\n",
       "  102.0,\n",
       "  154.0,\n",
       "  88.0,\n",
       "  185.0,\n",
       "  161.0,\n",
       "  96.0,\n",
       "  169.0,\n",
       "  106.0])"
      ]
     },
     "execution_count": 16,
     "metadata": {},
     "output_type": "execute_result"
    }
   ],
   "source": [
    "stock_levels, prices"
   ]
  },
  {
   "cell_type": "code",
   "execution_count": 17,
   "metadata": {
    "colab": {
     "base_uri": "https://localhost:8080/"
    },
    "executionInfo": {
     "elapsed": 3,
     "status": "ok",
     "timestamp": 1695221200165,
     "user": {
      "displayName": "`",
      "userId": "02799889750924565863"
     },
     "user_tz": -120
    },
    "id": "cK-oJzSd6NtY",
    "outputId": "34fb8e6d-cd79-4fbb-c3aa-6e1eb29a1bac"
   },
   "outputs": [
    {
     "data": {
      "text/plain": [
       "336488.0"
      ]
     },
     "execution_count": 17,
     "metadata": {},
     "output_type": "execute_result"
    }
   ],
   "source": [
    "# the total value is just the sum of the products of corresponding values in the two lists\n",
    "sum([ s * p for s, p in zip(stock_levels, prices) ])"
   ]
  },
  {
   "cell_type": "code",
   "execution_count": 18,
   "metadata": {
    "colab": {
     "base_uri": "https://localhost:8080/"
    },
    "executionInfo": {
     "elapsed": 611,
     "status": "ok",
     "timestamp": 1695221269693,
     "user": {
      "displayName": "`",
      "userId": "02799889750924565863"
     },
     "user_tz": -120
    },
    "id": "8ypmhhjoDp4M",
    "outputId": "b006aeb4-adf1-4650-abf4-82dcf1001aa3"
   },
   "outputs": [
    {
     "data": {
      "text/plain": [
       "336488.0"
      ]
     },
     "execution_count": 18,
     "metadata": {},
     "output_type": "execute_result"
    }
   ],
   "source": [
    "# alternatively: using numpy\n",
    "import numpy as np\n",
    "\n",
    "np.dot(stock_levels, prices)"
   ]
  },
  {
   "cell_type": "markdown",
   "metadata": {
    "id": "nbfvTN7YdwhI"
   },
   "source": [
    "## Bonus task\n",
    "\n",
    "Play around with the interactive regex exercises in https://regexone.com/.\n",
    "\n",
    "Proceed as much as possible.\n"
   ]
  }
 ],
 "metadata": {
  "colab": {
   "provenance": [],
   "toc_visible": true
  },
  "kernelspec": {
   "display_name": "Python 3 (ipykernel)",
   "language": "python",
   "name": "python3"
  },
  "language_info": {
   "codemirror_mode": {
    "name": "ipython",
    "version": 3
   },
   "file_extension": ".py",
   "mimetype": "text/x-python",
   "name": "python",
   "nbconvert_exporter": "python",
   "pygments_lexer": "ipython3",
   "version": "3.10.12"
  }
 },
 "nbformat": 4,
 "nbformat_minor": 1
}
