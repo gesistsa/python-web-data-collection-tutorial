{
 "cells": [
  {
   "cell_type": "markdown",
   "metadata": {
    "id": "SOOwmBfQSJ_H"
   },
   "source": [
    "# Exercise - Static web scraping 3\n",
    "\n",
    "Author: Jun Sun (jun.sun@gesis.org)"
   ]
  },
  {
   "cell_type": "markdown",
   "metadata": {
    "id": "SOOwmBfQSJ_H"
   },
   "source": [
    "## Task 1\n",
    "\n",
    "1. Install selectorlib addon in your browser\n",
    "2. Install selectorlib package in colab notebook"
   ]
  },
  {
   "cell_type": "markdown",
   "metadata": {
    "id": "FRKZvseiTIAj"
   },
   "source": [
    "## Solution"
   ]
  },
  {
   "cell_type": "code",
   "execution_count": null,
   "metadata": {
    "id": "JGxjaxCtifkH"
   },
   "outputs": [],
   "source": []
  },
  {
   "cell_type": "markdown",
   "metadata": {
    "id": "oE85OJcKUVcz"
   },
   "source": [
    "## Task 2\n",
    "\n",
    "Use selectorlib and regex to scrape information about all pokemons with tag \"overgrow\".\n",
    "\n",
    "https://scrapeme.live/product-tag/overgrow/\n",
    "\n",
    "1. Get the name and price of each pokemon with tag \"overgrow\"\n",
    "2. Get the stock level of each pokemon with tag \"overgrow\"\n",
    "3. Calculate the total value (i.e., sum of all prices)\n"
   ]
  },
  {
   "cell_type": "code",
   "execution_count": null,
   "metadata": {
    "id": "1u12m5NUxxXI"
   },
   "outputs": [],
   "source": [
    "# import stuffs\n",
    "from selectorlib import Extractor\n",
    "import requests\n",
    "import re"
   ]
  },
  {
   "cell_type": "markdown",
   "metadata": {
    "id": "UxFX0RLXfGaV"
   },
   "source": [
    "## Solution"
   ]
  },
  {
   "cell_type": "code",
   "execution_count": null,
   "metadata": {
    "id": "9o6uABgfvMX9"
   },
   "outputs": [],
   "source": []
  },
  {
   "cell_type": "markdown",
   "metadata": {
    "id": "nbfvTN7YdwhI"
   },
   "source": [
    "## Bonus task\n",
    "\n",
    "Play around with the interactive regex exercises in https://regexone.com/.\n",
    "\n",
    "Proceed as much as possible.\n"
   ]
  }
 ],
 "metadata": {
  "colab": {
   "authorship_tag": "ABX9TyO564PmOf3WeRXFGXWb8DMf",
   "collapsed_sections": [],
   "provenance": [],
   "toc_visible": true
  },
  "kernelspec": {
   "display_name": "Python 3 (ipykernel)",
   "language": "python",
   "name": "python3"
  },
  "language_info": {
   "codemirror_mode": {
    "name": "ipython",
    "version": 3
   },
   "file_extension": ".py",
   "mimetype": "text/x-python",
   "name": "python",
   "nbconvert_exporter": "python",
   "pygments_lexer": "ipython3",
   "version": "3.10.12"
  }
 },
 "nbformat": 4,
 "nbformat_minor": 1
}
