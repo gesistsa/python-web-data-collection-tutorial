{
 "cells": [
  {
   "cell_type": "raw",
   "metadata": {},
   "source": [
    "---\n",
    "title: Lecture - Static web scraping 2\n",
    "author:\n",
    "  - name:\n",
    "      given: Jun\n",
    "      family: Sun\n",
    "---"
   ]
  },
  {
   "cell_type": "markdown",
   "metadata": {
    "id": "9-G2WqZwS4Yr"
   },
   "source": [
    "# Lecture -\tStatic web scraping 2"
   ]
  },
  {
   "cell_type": "markdown",
   "metadata": {
    "id": "NyShof9nS4Yz"
   },
   "source": [
    "Big thanks to [Fabian Floeck](https://f-squared.org/) for the majority of the content in this notebook.\n",
    "\n",
    "This notebook also borrows from the Lab for Data Mining with Pandas on Wikipedia data by [Brian Keegan](https://www.brianckeegan.com), [Department of Information Science, CU Boulder](https://www.colorado.edu/cmci/academics/information-science), as well as the [PyCon 2015 Pandas tutorial](https://github.com/brandon-rhodes/pycon-pandas-tutorial) by Brandon Rhodes and the [dataquest blog](https://www.dataquest.io/blog/web-scraping-tutorial-python/).\n",
    "\n",
    "This notebook is copyrighted and made available under the [Apache License v2.0](https://creativecommons.org/licenses/by-sa/4.0/).\n",
    "\n",
    "Maintained / presented by: Jun Sun (jun.sun@gesis.org)"
   ]
  },
  {
   "cell_type": "markdown",
   "metadata": {},
   "source": [
    "## Learning goals\n",
    "* Use `requests` to retrieve a webpage\n",
    "* Use `beautifulsoup` to parse a webpage\n",
    "* Navigate through a website"
   ]
  },
  {
   "cell_type": "markdown",
   "metadata": {
    "id": "8r_Ff7fJS4Y1"
   },
   "source": [
    "## Import modules and set up environment"
   ]
  },
  {
   "cell_type": "code",
   "execution_count": 1,
   "metadata": {
    "executionInfo": {
     "elapsed": 694,
     "status": "ok",
     "timestamp": 1694544772457,
     "user": {
      "displayName": "`",
      "userId": "02799889750924565863"
     },
     "user_tz": -120
    },
    "id": "-rotZeFJS4Y2"
   },
   "outputs": [],
   "source": [
    "# Package query and download from web resources! Alternatives: URLlib2, URLlib3\n",
    "import requests\n",
    "\n",
    "# Speaking of, we can manipulate URLs easily with urllib\n",
    "import urllib\n",
    "\n",
    "# If you want HTML to make sense, you need soup\n",
    "from bs4 import BeautifulSoup\n",
    "\n",
    "# Avoids scroll-in-the-scroll in the entire Notebook\n",
    "from IPython.display import Javascript, HTML\n",
    "if 'google.colab' in str(get_ipython()):\n",
    "    def resize_colab_cell():\n",
    "      display(Javascript('google.colab.output.setIframeHeight(0, true, {maxHeight: 600})'))\n",
    "    get_ipython().events.register('pre_run_cell', resize_colab_cell)"
   ]
  },
  {
   "cell_type": "markdown",
   "metadata": {
    "id": "R1ROByZKS4Y-"
   },
   "source": [
    "## Starting example"
   ]
  },
  {
   "cell_type": "markdown",
   "metadata": {
    "id": "Ay0wj2QfS4Y7"
   },
   "source": [
    "example page at http://dataquestio.github.io/web-scraping-pages/ids_and_classes.html"
   ]
  },
  {
   "cell_type": "code",
   "execution_count": 2,
   "metadata": {
    "colab": {
     "base_uri": "https://localhost:8080/",
     "height": 17
    },
    "executionInfo": {
     "elapsed": 9,
     "status": "ok",
     "timestamp": 1694544772458,
     "user": {
      "displayName": "`",
      "userId": "02799889750924565863"
     },
     "user_tz": -120
    },
    "id": "sfVQX8KvA0vB",
    "outputId": "33ead6f7-3b48-42e3-f902-d1d7e0797d8c"
   },
   "outputs": [],
   "source": [
    "content = \"\"\"<html>\n",
    "<head>\n",
    "<title>A simple example page</title>\n",
    "</head>\n",
    "<body>\n",
    "<div>\n",
    "<p class=\"inner-text first-item\" id=\"first\">\n",
    "                First paragraph.\n",
    "            </p>\n",
    "<p class=\"inner-text\">\n",
    "                Second paragraph.\n",
    "            </p>\n",
    "</div>\n",
    "<p class=\"outer-text first-item\" id=\"second\">\n",
    "<b>\n",
    "                First outer paragraph.\n",
    "            </b>\n",
    "</p>\n",
    "<p class=\"outer-text\">\n",
    "<b>\n",
    "                Second outer paragraph.\n",
    "            </b>\n",
    "</p>\n",
    "</body>\n",
    "</html>\"\"\""
   ]
  },
  {
   "cell_type": "code",
   "execution_count": 3,
   "metadata": {
    "colab": {
     "base_uri": "https://localhost:8080/",
     "height": 116
    },
    "executionInfo": {
     "elapsed": 8,
     "status": "ok",
     "timestamp": 1694544772458,
     "user": {
      "displayName": "`",
      "userId": "02799889750924565863"
     },
     "user_tz": -120
    },
    "id": "MXA08asjA4lD",
    "outputId": "bf0c3493-be48-49cf-f31d-a6c1a053905e"
   },
   "outputs": [
    {
     "data": {
      "text/html": [
       "<html>\n",
       "<head>\n",
       "<title>A simple example page</title>\n",
       "</head>\n",
       "<body>\n",
       "<div>\n",
       "<p class=\"inner-text first-item\" id=\"first\">\n",
       "                First paragraph.\n",
       "            </p>\n",
       "<p class=\"inner-text\">\n",
       "                Second paragraph.\n",
       "            </p>\n",
       "</div>\n",
       "<p class=\"outer-text first-item\" id=\"second\">\n",
       "<b>\n",
       "                First outer paragraph.\n",
       "            </b>\n",
       "</p>\n",
       "<p class=\"outer-text\">\n",
       "<b>\n",
       "                Second outer paragraph.\n",
       "            </b>\n",
       "</p>\n",
       "</body>\n",
       "</html>"
      ],
      "text/plain": [
       "<IPython.core.display.HTML object>"
      ]
     },
     "execution_count": 3,
     "metadata": {},
     "output_type": "execute_result"
    }
   ],
   "source": [
    "# display as HTML\n",
    "HTML(content)"
   ]
  },
  {
   "cell_type": "markdown",
   "metadata": {
    "id": "uaR59YgpKzEk"
   },
   "source": [
    "We can also get the same content by fetching the page through requests"
   ]
  },
  {
   "cell_type": "code",
   "execution_count": 4,
   "metadata": {
    "colab": {
     "base_uri": "https://localhost:8080/",
     "height": 17
    },
    "executionInfo": {
     "elapsed": 409,
     "status": "ok",
     "timestamp": 1694544772861,
     "user": {
      "displayName": "`",
      "userId": "02799889750924565863"
     },
     "user_tz": -120
    },
    "id": "X2514dE_KxcJ",
    "outputId": "4e8dc7fb-87f0-4de8-f421-d59aafdfb81f"
   },
   "outputs": [],
   "source": [
    "page = requests.get(\"http://dataquestio.github.io/web-scraping-pages/ids_and_classes.html\")\n",
    "content = page.content"
   ]
  },
  {
   "cell_type": "code",
   "execution_count": 5,
   "metadata": {
    "colab": {
     "base_uri": "https://localhost:8080/",
     "height": 17
    },
    "executionInfo": {
     "elapsed": 37,
     "status": "ok",
     "timestamp": 1694544772862,
     "user": {
      "displayName": "`",
      "userId": "02799889750924565863"
     },
     "user_tz": -120
    },
    "id": "kEw13pymS4ZC",
    "outputId": "bf4b4db9-c5b3-438a-ed5c-4eb203868c3d"
   },
   "outputs": [],
   "source": [
    "# load it into beautifulsoup\n",
    "soup = BeautifulSoup(content, 'html.parser')"
   ]
  },
  {
   "cell_type": "code",
   "execution_count": 6,
   "metadata": {
    "colab": {
     "base_uri": "https://localhost:8080/",
     "height": 513
    },
    "executionInfo": {
     "elapsed": 36,
     "status": "ok",
     "timestamp": 1694544772862,
     "user": {
      "displayName": "`",
      "userId": "02799889750924565863"
     },
     "user_tz": -120
    },
    "id": "V2fCfTM5S4ZE",
    "outputId": "a8818e7e-b723-4821-ba2c-d0e6c56a56a3"
   },
   "outputs": [
    {
     "name": "stdout",
     "output_type": "stream",
     "text": [
      "<html>\n",
      " <head>\n",
      "  <title>\n",
      "   A simple example page\n",
      "  </title>\n",
      " </head>\n",
      " <body>\n",
      "  <div>\n",
      "   <p class=\"inner-text first-item\" id=\"first\">\n",
      "    First paragraph.\n",
      "   </p>\n",
      "   <p class=\"inner-text\">\n",
      "    Second paragraph.\n",
      "   </p>\n",
      "  </div>\n",
      "  <p class=\"outer-text first-item\" id=\"second\">\n",
      "   <b>\n",
      "    First outer paragraph.\n",
      "   </b>\n",
      "  </p>\n",
      "  <p class=\"outer-text\">\n",
      "   <b>\n",
      "    Second outer paragraph.\n",
      "   </b>\n",
      "  </p>\n",
      " </body>\n",
      "</html>\n",
      "\n"
     ]
    }
   ],
   "source": [
    "# print the soup nicely\n",
    "print(soup.prettify())"
   ]
  },
  {
   "cell_type": "code",
   "execution_count": 7,
   "metadata": {
    "colab": {
     "base_uri": "https://localhost:8080/",
     "height": 182
    },
    "executionInfo": {
     "elapsed": 35,
     "status": "ok",
     "timestamp": 1694544772862,
     "user": {
      "displayName": "`",
      "userId": "02799889750924565863"
     },
     "user_tz": -120
    },
    "id": "qxgPDUkvS4ZF",
    "outputId": "b19a81fe-9be2-4f43-a33b-747cb1af4315"
   },
   "outputs": [
    {
     "data": {
      "text/plain": [
       "['\\n',\n",
       " <p class=\"inner-text first-item\" id=\"first\">\n",
       "                 First paragraph.\n",
       "             </p>,\n",
       " '\\n',\n",
       " <p class=\"inner-text\">\n",
       "                 Second paragraph.\n",
       "             </p>,\n",
       " '\\n']"
      ]
     },
     "execution_count": 7,
     "metadata": {},
     "output_type": "execute_result"
    }
   ],
   "source": [
    "list(soup.html.body.div.children)"
   ]
  },
  {
   "cell_type": "code",
   "execution_count": 8,
   "metadata": {
    "colab": {
     "base_uri": "https://localhost:8080/",
     "height": 311
    },
    "executionInfo": {
     "elapsed": 34,
     "status": "ok",
     "timestamp": 1694544772863,
     "user": {
      "displayName": "`",
      "userId": "02799889750924565863"
     },
     "user_tz": -120
    },
    "id": "R4CrDV5XS4ZF",
    "outputId": "f5731bbc-db98-4bb2-bb8b-d22c062c7b95"
   },
   "outputs": [
    {
     "data": {
      "text/plain": [
       "[<p class=\"inner-text first-item\" id=\"first\">\n",
       "                 First paragraph.\n",
       "             </p>,\n",
       " <p class=\"inner-text\">\n",
       "                 Second paragraph.\n",
       "             </p>,\n",
       " <p class=\"outer-text first-item\" id=\"second\">\n",
       " <b>\n",
       "                 First outer paragraph.\n",
       "             </b>\n",
       " </p>,\n",
       " <p class=\"outer-text\">\n",
       " <b>\n",
       "                 Second outer paragraph.\n",
       "             </b>\n",
       " </p>]"
      ]
     },
     "execution_count": 8,
     "metadata": {},
     "output_type": "execute_result"
    }
   ],
   "source": [
    "# find all <p> </p> tags\n",
    "soup.find_all('p')"
   ]
  },
  {
   "cell_type": "code",
   "execution_count": 9,
   "metadata": {
    "colab": {
     "base_uri": "https://localhost:8080/",
     "height": 35
    },
    "executionInfo": {
     "elapsed": 34,
     "status": "ok",
     "timestamp": 1694544772863,
     "user": {
      "displayName": "`",
      "userId": "02799889750924565863"
     },
     "user_tz": -120
    },
    "id": "QKYwHupfS4ZI",
    "outputId": "3f861e87-2e2a-4b6b-bbfb-522268a515d5"
   },
   "outputs": [
    {
     "data": {
      "text/plain": [
       "4"
      ]
     },
     "execution_count": 9,
     "metadata": {},
     "output_type": "execute_result"
    }
   ],
   "source": [
    "# number of <p> </p> tags\n",
    "len(soup.find_all('p'))"
   ]
  },
  {
   "cell_type": "code",
   "execution_count": 10,
   "metadata": {
    "colab": {
     "base_uri": "https://localhost:8080/",
     "height": 72
    },
    "executionInfo": {
     "elapsed": 33,
     "status": "ok",
     "timestamp": 1694544772863,
     "user": {
      "displayName": "`",
      "userId": "02799889750924565863"
     },
     "user_tz": -120
    },
    "id": "h8MoZox6S4ZJ",
    "outputId": "da2ce9d8-67ce-4e54-ccf9-d5b87aead13c"
   },
   "outputs": [
    {
     "data": {
      "text/plain": [
       "<p class=\"inner-text first-item\" id=\"first\">\n",
       "                First paragraph.\n",
       "            </p>"
      ]
     },
     "execution_count": 10,
     "metadata": {},
     "output_type": "execute_result"
    }
   ],
   "source": [
    "# access the first one\n",
    "soup.find_all('p')[0]"
   ]
  },
  {
   "cell_type": "code",
   "execution_count": 11,
   "metadata": {
    "colab": {
     "base_uri": "https://localhost:8080/",
     "height": 72
    },
    "executionInfo": {
     "elapsed": 33,
     "status": "ok",
     "timestamp": 1694544772864,
     "user": {
      "displayName": "`",
      "userId": "02799889750924565863"
     },
     "user_tz": -120
    },
    "id": "rU8BhIrhS4ZK",
    "outputId": "49fc32b8-2a45-46d0-a5c0-1dda2c4a7c34",
    "scrolled": true
   },
   "outputs": [
    {
     "data": {
      "text/plain": [
       "<p class=\"inner-text first-item\" id=\"first\">\n",
       "                First paragraph.\n",
       "            </p>"
      ]
     },
     "execution_count": 11,
     "metadata": {},
     "output_type": "execute_result"
    }
   ],
   "source": [
    "# equivalently\n",
    "soup.find('p')"
   ]
  },
  {
   "cell_type": "code",
   "execution_count": 12,
   "metadata": {
    "colab": {
     "base_uri": "https://localhost:8080/",
     "height": 72
    },
    "executionInfo": {
     "elapsed": 32,
     "status": "ok",
     "timestamp": 1694544772864,
     "user": {
      "displayName": "`",
      "userId": "02799889750924565863"
     },
     "user_tz": -120
    },
    "id": "vfQ8wOXBS4ZK",
    "outputId": "4f99755d-bfd9-4fc3-f2de-b680d0fd9297"
   },
   "outputs": [
    {
     "data": {
      "text/plain": [
       "<p class=\"inner-text first-item\" id=\"first\">\n",
       "                First paragraph.\n",
       "            </p>"
      ]
     },
     "execution_count": 12,
     "metadata": {},
     "output_type": "execute_result"
    }
   ],
   "source": [
    "# equivalently\n",
    "soup.p"
   ]
  },
  {
   "cell_type": "code",
   "execution_count": 13,
   "metadata": {
    "colab": {
     "base_uri": "https://localhost:8080/",
     "height": 201
    },
    "executionInfo": {
     "elapsed": 31,
     "status": "ok",
     "timestamp": 1694544772864,
     "user": {
      "displayName": "`",
      "userId": "02799889750924565863"
     },
     "user_tz": -120
    },
    "id": "Yr2TW12XS4ZL",
    "outputId": "2aea7238-b304-45ac-9ec4-f164e51264a7"
   },
   "outputs": [
    {
     "data": {
      "text/plain": [
       "[<p class=\"outer-text first-item\" id=\"second\">\n",
       " <b>\n",
       "                 First outer paragraph.\n",
       "             </b>\n",
       " </p>,\n",
       " <p class=\"outer-text\">\n",
       " <b>\n",
       "                 Second outer paragraph.\n",
       "             </b>\n",
       " </p>]"
      ]
     },
     "execution_count": 13,
     "metadata": {},
     "output_type": "execute_result"
    }
   ],
   "source": [
    "# find all <p> </p> tags with class 'outer-text'\n",
    "soup.find_all('p', class_='outer-text')"
   ]
  },
  {
   "cell_type": "code",
   "execution_count": 14,
   "metadata": {
    "colab": {
     "base_uri": "https://localhost:8080/",
     "height": 72
    },
    "executionInfo": {
     "elapsed": 30,
     "status": "ok",
     "timestamp": 1694544772864,
     "user": {
      "displayName": "`",
      "userId": "02799889750924565863"
     },
     "user_tz": -120
    },
    "id": "JrJW1vhgS4ZM",
    "outputId": "36793572-43eb-49fc-ed7c-e3f1476c71d3"
   },
   "outputs": [
    {
     "data": {
      "text/plain": [
       "[<p class=\"inner-text first-item\" id=\"first\">\n",
       "                 First paragraph.\n",
       "             </p>]"
      ]
     },
     "execution_count": 14,
     "metadata": {},
     "output_type": "execute_result"
    }
   ],
   "source": [
    "# find all elements with id 'first'\n",
    "soup.find_all(id=\"first\")"
   ]
  },
  {
   "cell_type": "markdown",
   "metadata": {
    "id": "97XALzL6DBS4"
   },
   "source": [
    "* `find`: Return only the first child of this Tag matching the given\n",
    "criteria. The first argument is a tag name.\n",
    "* `select`: Perform a CSS selection operation on the current element. The first argument is a query/selector.\n",
    "\n",
    "Notable CSS selectors:\n",
    "* ancestor descendant\n",
    "* parent > child\n",
    "* element.class\n",
    "* element#id"
   ]
  },
  {
   "cell_type": "markdown",
   "metadata": {
    "id": "n3oHXKEXFtA3"
   },
   "source": [
    "\n",
    "\n",
    "\n",
    "Examples:\n"
   ]
  },
  {
   "cell_type": "code",
   "execution_count": 15,
   "metadata": {
    "colab": {
     "base_uri": "https://localhost:8080/",
     "height": 127
    },
    "executionInfo": {
     "elapsed": 31,
     "status": "ok",
     "timestamp": 1694544772865,
     "user": {
      "displayName": "`",
      "userId": "02799889750924565863"
     },
     "user_tz": -120
    },
    "id": "srZr4KP0S4ZM",
    "outputId": "ce5a419d-9ab4-4498-c541-1159b1d3ac17"
   },
   "outputs": [
    {
     "data": {
      "text/plain": [
       "[<p class=\"inner-text first-item\" id=\"first\">\n",
       "                 First paragraph.\n",
       "             </p>,\n",
       " <p class=\"inner-text\">\n",
       "                 Second paragraph.\n",
       "             </p>]"
      ]
     },
     "execution_count": 15,
     "metadata": {},
     "output_type": "execute_result"
    }
   ],
   "source": [
    "soup.select(\"div p\")"
   ]
  },
  {
   "cell_type": "code",
   "execution_count": 16,
   "metadata": {
    "colab": {
     "base_uri": "https://localhost:8080/",
     "height": 311
    },
    "executionInfo": {
     "elapsed": 30,
     "status": "ok",
     "timestamp": 1694544772865,
     "user": {
      "displayName": "`",
      "userId": "02799889750924565863"
     },
     "user_tz": -120
    },
    "id": "OEmBtidVS4ZN",
    "outputId": "0c09e986-008d-4c0b-8690-38689badc8fa",
    "scrolled": true
   },
   "outputs": [
    {
     "data": {
      "text/plain": [
       "[<p class=\"inner-text first-item\" id=\"first\">\n",
       "                 First paragraph.\n",
       "             </p>,\n",
       " <p class=\"inner-text\">\n",
       "                 Second paragraph.\n",
       "             </p>,\n",
       " <p class=\"outer-text first-item\" id=\"second\">\n",
       " <b>\n",
       "                 First outer paragraph.\n",
       "             </b>\n",
       " </p>,\n",
       " <p class=\"outer-text\">\n",
       " <b>\n",
       "                 Second outer paragraph.\n",
       "             </b>\n",
       " </p>]"
      ]
     },
     "execution_count": 16,
     "metadata": {},
     "output_type": "execute_result"
    }
   ],
   "source": [
    "soup.select(\"p\")"
   ]
  },
  {
   "cell_type": "code",
   "execution_count": 17,
   "metadata": {
    "colab": {
     "base_uri": "https://localhost:8080/",
     "height": 164
    },
    "executionInfo": {
     "elapsed": 29,
     "status": "ok",
     "timestamp": 1694544772865,
     "user": {
      "displayName": "`",
      "userId": "02799889750924565863"
     },
     "user_tz": -120
    },
    "id": "ZYE0ufxgS4ZN",
    "outputId": "d781d203-60d7-46e2-8c23-7cbe1870b97f"
   },
   "outputs": [
    {
     "data": {
      "text/plain": [
       "[<p class=\"inner-text first-item\" id=\"first\">\n",
       "                 First paragraph.\n",
       "             </p>,\n",
       " <p class=\"outer-text first-item\" id=\"second\">\n",
       " <b>\n",
       "                 First outer paragraph.\n",
       "             </b>\n",
       " </p>]"
      ]
     },
     "execution_count": 17,
     "metadata": {},
     "output_type": "execute_result"
    }
   ],
   "source": [
    "soup.select(\"p.first-item\")"
   ]
  },
  {
   "cell_type": "code",
   "execution_count": 18,
   "metadata": {
    "colab": {
     "base_uri": "https://localhost:8080/",
     "height": 35
    },
    "executionInfo": {
     "elapsed": 30,
     "status": "ok",
     "timestamp": 1694544772865,
     "user": {
      "displayName": "`",
      "userId": "02799889750924565863"
     },
     "user_tz": -120
    },
    "id": "3I_z2I94S4ZN",
    "outputId": "f8360411-5719-49c8-b84d-5ccd4c543b1d"
   },
   "outputs": [
    {
     "data": {
      "text/plain": [
       "[]"
      ]
     },
     "execution_count": 18,
     "metadata": {},
     "output_type": "execute_result"
    }
   ],
   "source": [
    "soup.select(\"div p.first-item#second\")"
   ]
  },
  {
   "cell_type": "code",
   "execution_count": 19,
   "metadata": {
    "colab": {
     "base_uri": "https://localhost:8080/",
     "height": 164
    },
    "executionInfo": {
     "elapsed": 29,
     "status": "ok",
     "timestamp": 1694544772866,
     "user": {
      "displayName": "`",
      "userId": "02799889750924565863"
     },
     "user_tz": -120
    },
    "id": "yl9Bes5LDzgZ",
    "outputId": "73fb3b0a-3021-43e7-b9d1-76174fbe33ac"
   },
   "outputs": [
    {
     "data": {
      "text/plain": [
       "[<p class=\"inner-text first-item\" id=\"first\">\n",
       "                 First paragraph.\n",
       "             </p>,\n",
       " <p class=\"outer-text first-item\" id=\"second\">\n",
       " <b>\n",
       "                 First outer paragraph.\n",
       "             </b>\n",
       " </p>]"
      ]
     },
     "execution_count": 19,
     "metadata": {},
     "output_type": "execute_result"
    }
   ],
   "source": [
    "soup.select(\"p.first-item\")"
   ]
  },
  {
   "cell_type": "code",
   "execution_count": 20,
   "metadata": {
    "colab": {
     "base_uri": "https://localhost:8080/",
     "height": 109
    },
    "executionInfo": {
     "elapsed": 28,
     "status": "ok",
     "timestamp": 1694544772866,
     "user": {
      "displayName": "`",
      "userId": "02799889750924565863"
     },
     "user_tz": -120
    },
    "id": "yxTiJCYuS4ZO",
    "outputId": "0ad43bfb-56a5-430e-c2ef-a6fbd92fee0f"
   },
   "outputs": [
    {
     "data": {
      "text/plain": [
       "[<p class=\"outer-text first-item\" id=\"second\">\n",
       " <b>\n",
       "                 First outer paragraph.\n",
       "             </b>\n",
       " </p>]"
      ]
     },
     "execution_count": 20,
     "metadata": {},
     "output_type": "execute_result"
    }
   ],
   "source": [
    "soup.select(\"#second\")"
   ]
  },
  {
   "cell_type": "code",
   "execution_count": 21,
   "metadata": {
    "colab": {
     "base_uri": "https://localhost:8080/",
     "height": 109
    },
    "executionInfo": {
     "elapsed": 27,
     "status": "ok",
     "timestamp": 1694544772866,
     "user": {
      "displayName": "`",
      "userId": "02799889750924565863"
     },
     "user_tz": -120
    },
    "id": "XMG-RSdoS4ZO",
    "outputId": "bcd31560-d1d3-4bc8-feb0-970566516449",
    "scrolled": true
   },
   "outputs": [
    {
     "data": {
      "text/plain": [
       "[<p class=\"outer-text first-item\" id=\"second\">\n",
       " <b>\n",
       "                 First outer paragraph.\n",
       "             </b>\n",
       " </p>]"
      ]
     },
     "execution_count": 21,
     "metadata": {},
     "output_type": "execute_result"
    }
   ],
   "source": [
    "soup.select(\"p#second\")\n"
   ]
  },
  {
   "cell_type": "code",
   "execution_count": 22,
   "metadata": {
    "colab": {
     "base_uri": "https://localhost:8080/",
     "height": 35
    },
    "executionInfo": {
     "elapsed": 28,
     "status": "ok",
     "timestamp": 1694544772867,
     "user": {
      "displayName": "`",
      "userId": "02799889750924565863"
     },
     "user_tz": -120
    },
    "id": "jSNiORXeS4ZO",
    "outputId": "89da113e-ad04-4dc6-b827-bd5d5d49b355"
   },
   "outputs": [
    {
     "data": {
      "text/plain": [
       "'First outer paragraph.'"
      ]
     },
     "execution_count": 22,
     "metadata": {},
     "output_type": "execute_result"
    }
   ],
   "source": [
    "soup.select(\"p#second\")[0].get_text().strip()"
   ]
  },
  {
   "cell_type": "markdown",
   "metadata": {
    "id": "njMw7Q1nSnJ-"
   },
   "source": [
    "## Navigating through a website"
   ]
  },
  {
   "cell_type": "markdown",
   "metadata": {
    "id": "ao_sLGiOSu7Y"
   },
   "source": [
    "### Parse a page\n",
    "Extract the title, price of a book from a mock e-commerce website:\n",
    "\n",
    "https://books.toscrape.com/catalogue/adulthood-is-a-myth-a-sarahs-scribbles-collection_659/index.html\n"
   ]
  },
  {
   "cell_type": "code",
   "execution_count": 23,
   "metadata": {
    "colab": {
     "base_uri": "https://localhost:8080/",
     "height": 17
    },
    "executionInfo": {
     "elapsed": 345,
     "status": "ok",
     "timestamp": 1694544773185,
     "user": {
      "displayName": "`",
      "userId": "02799889750924565863"
     },
     "user_tz": -120
    },
    "id": "BZU5MEy_YESp",
    "outputId": "15e134d7-9542-4731-848f-48181696f45d"
   },
   "outputs": [],
   "source": [
    "# we know the drill now: get the page for the book\n",
    "book_url = 'https://books.toscrape.com/catalogue/adulthood-is-a-myth-a-sarahs-scribbles-collection_659/index.html?'\n",
    "book = BeautifulSoup(requests.get(book_url).content, 'html.parser')"
   ]
  },
  {
   "cell_type": "code",
   "execution_count": 24,
   "metadata": {
    "colab": {
     "base_uri": "https://localhost:8080/",
     "height": 17
    },
    "executionInfo": {
     "elapsed": 16,
     "status": "ok",
     "timestamp": 1694544773186,
     "user": {
      "displayName": "`",
      "userId": "02799889750924565863"
     },
     "user_tz": -120
    },
    "id": "1a3RL-g2YENT",
    "outputId": "cc475b8d-cc78-41cd-a3ba-4f680ae2a7bc"
   },
   "outputs": [],
   "source": [
    "# get the title\n",
    "title = book.h1.text"
   ]
  },
  {
   "cell_type": "code",
   "execution_count": 25,
   "metadata": {
    "colab": {
     "base_uri": "https://localhost:8080/",
     "height": 146
    },
    "executionInfo": {
     "elapsed": 15,
     "status": "ok",
     "timestamp": 1694544773186,
     "user": {
      "displayName": "`",
      "userId": "02799889750924565863"
     },
     "user_tz": -120
    },
    "id": "uFeRlXGJbD1-",
    "outputId": "a10aac2d-beba-47f2-e3bd-0eb78c23a304"
   },
   "outputs": [
    {
     "data": {
      "text/plain": [
       "[<p class=\"price_color\">£10.90</p>,\n",
       " <p class=\"price_color\">£48.80</p>,\n",
       " <p class=\"price_color\">£32.01</p>,\n",
       " <p class=\"price_color\">£57.62</p>,\n",
       " <p class=\"price_color\">£51.51</p>,\n",
       " <p class=\"price_color\">£38.39</p>,\n",
       " <p class=\"price_color\">£25.48</p>]"
      ]
     },
     "execution_count": 25,
     "metadata": {},
     "output_type": "execute_result"
    }
   ],
   "source": [
    "#there are multiple elements with the same characteristics\n",
    "book.select('.price_color')"
   ]
  },
  {
   "cell_type": "code",
   "execution_count": 26,
   "metadata": {
    "colab": {
     "base_uri": "https://localhost:8080/",
     "height": 17
    },
    "executionInfo": {
     "elapsed": 14,
     "status": "ok",
     "timestamp": 1694544773186,
     "user": {
      "displayName": "`",
      "userId": "02799889750924565863"
     },
     "user_tz": -120
    },
    "id": "RX3gF6uua3aV",
    "outputId": "26b094d6-6851-4e45-cdc5-2d8b58b2bbe7"
   },
   "outputs": [],
   "source": [
    "# select the parent first\n",
    "price = book.select('.product_main > p.price_color')[0].text"
   ]
  },
  {
   "cell_type": "code",
   "execution_count": 27,
   "metadata": {
    "colab": {
     "base_uri": "https://localhost:8080/",
     "height": 54
    },
    "executionInfo": {
     "elapsed": 15,
     "status": "ok",
     "timestamp": 1694544773187,
     "user": {
      "displayName": "`",
      "userId": "02799889750924565863"
     },
     "user_tz": -120
    },
    "id": "c2-k2HCMauqK",
    "outputId": "d4169662-b537-4c8a-ab32-d38ca66feeb4"
   },
   "outputs": [
    {
     "name": "stdout",
     "output_type": "stream",
     "text": [
      "Adulthood Is a Myth: A \"Sarah's Scribbles\" Collection\n",
      "£10.90\n"
     ]
    }
   ],
   "source": [
    "# display the title and the price\n",
    "print(title)\n",
    "print(price)"
   ]
  },
  {
   "cell_type": "markdown",
   "metadata": {
    "id": "CJrn-UCsarVP"
   },
   "source": [
    "wrap in a function"
   ]
  },
  {
   "cell_type": "code",
   "execution_count": 28,
   "metadata": {
    "colab": {
     "base_uri": "https://localhost:8080/",
     "height": 17
    },
    "executionInfo": {
     "elapsed": 14,
     "status": "ok",
     "timestamp": 1694544773187,
     "user": {
      "displayName": "`",
      "userId": "02799889750924565863"
     },
     "user_tz": -120
    },
    "id": "n-UuXZNbYDs7",
    "outputId": "f41ce9b8-c000-4d59-9e2c-b2ece1ef2109"
   },
   "outputs": [],
   "source": [
    "def parse_book(book):\n",
    "  title = ''\n",
    "  price = ''\n",
    "\n",
    "  try:\n",
    "    title = book.h1.text\n",
    "  except: pass\n",
    "\n",
    "  try:\n",
    "    price = book.select('.product_main > p.price_color')[0].text\n",
    "  except: pass\n",
    "\n",
    "  return dict(title = title,\n",
    "              price = price,\n",
    "          )"
   ]
  },
  {
   "cell_type": "markdown",
   "metadata": {
    "id": "TkAOEltNdpFc"
   },
   "source": [
    "### Parse multiple pages"
   ]
  },
  {
   "cell_type": "markdown",
   "metadata": {
    "id": "vR29hRh0dy9D"
   },
   "source": [
    "extract all the book urls from the front page of this listing: https://books.toscrape.com/index.html"
   ]
  },
  {
   "cell_type": "code",
   "execution_count": 29,
   "metadata": {
    "colab": {
     "base_uri": "https://localhost:8080/",
     "height": 17
    },
    "executionInfo": {
     "elapsed": 13,
     "status": "ok",
     "timestamp": 1694544773187,
     "user": {
      "displayName": "`",
      "userId": "02799889750924565863"
     },
     "user_tz": -120
    },
    "id": "gGTZNd3Sdw1r",
    "outputId": "64b364ad-e398-4bed-d8b5-4b123c15b179"
   },
   "outputs": [],
   "source": [
    "# we start from here\n",
    "BASE_URL = 'https://books.toscrape.com/'\n",
    "current_page_url = BASE_URL\n",
    "current_soup = BeautifulSoup(requests.get(current_page_url).content, 'html.parser')"
   ]
  },
  {
   "cell_type": "code",
   "execution_count": 30,
   "metadata": {
    "colab": {
     "base_uri": "https://localhost:8080/",
     "height": 35
    },
    "executionInfo": {
     "elapsed": 13,
     "status": "ok",
     "timestamp": 1694544773187,
     "user": {
      "displayName": "`",
      "userId": "02799889750924565863"
     },
     "user_tz": -120
    },
    "id": "KhSL99SbeXon",
    "outputId": "21afc9f8-18ca-46da-83d4-d279d4ea65d4"
   },
   "outputs": [
    {
     "data": {
      "text/plain": [
       "'catalogue/a-light-in-the-attic_1000/index.html'"
      ]
     },
     "execution_count": 30,
     "metadata": {},
     "output_type": "execute_result"
    }
   ],
   "source": [
    "# get the relative URL\n",
    "book_urls = [a['href'] for a in current_soup.select('.product_pod .image_container a[href]')]\n",
    "book_urls[0]"
   ]
  },
  {
   "cell_type": "code",
   "execution_count": 31,
   "metadata": {
    "colab": {
     "base_uri": "https://localhost:8080/",
     "height": 35
    },
    "executionInfo": {
     "elapsed": 13,
     "status": "ok",
     "timestamp": 1694544773188,
     "user": {
      "displayName": "`",
      "userId": "02799889750924565863"
     },
     "user_tz": -120
    },
    "id": "vEVMaMPlf5SJ",
    "outputId": "f2c64adb-1014-484b-de8b-68d40fd52b71"
   },
   "outputs": [
    {
     "data": {
      "text/plain": [
       "'https://books.toscrape.com/catalogue/a-light-in-the-attic_1000/index.html'"
      ]
     },
     "execution_count": 31,
     "metadata": {},
     "output_type": "execute_result"
    }
   ],
   "source": [
    "# concatenate the URL\n",
    "urllib.parse.urljoin(current_page_url, book_urls[0])"
   ]
  },
  {
   "cell_type": "code",
   "execution_count": 32,
   "metadata": {
    "colab": {
     "base_uri": "https://localhost:8080/",
     "height": 384
    },
    "executionInfo": {
     "elapsed": 262,
     "status": "ok",
     "timestamp": 1694544773438,
     "user": {
      "displayName": "`",
      "userId": "02799889750924565863"
     },
     "user_tz": -120
    },
    "id": "teDSvpiHJr6f",
    "outputId": "bc261386-0496-48c8-8187-3a71163771ad"
   },
   "outputs": [
    {
     "data": {
      "text/plain": [
       "['https://books.toscrape.com/catalogue/a-light-in-the-attic_1000/index.html',\n",
       " 'https://books.toscrape.com/catalogue/tipping-the-velvet_999/index.html',\n",
       " 'https://books.toscrape.com/catalogue/soumission_998/index.html',\n",
       " 'https://books.toscrape.com/catalogue/sharp-objects_997/index.html',\n",
       " 'https://books.toscrape.com/catalogue/sapiens-a-brief-history-of-humankind_996/index.html',\n",
       " 'https://books.toscrape.com/catalogue/the-requiem-red_995/index.html',\n",
       " 'https://books.toscrape.com/catalogue/the-dirty-little-secrets-of-getting-your-dream-job_994/index.html',\n",
       " 'https://books.toscrape.com/catalogue/the-coming-woman-a-novel-based-on-the-life-of-the-infamous-feminist-victoria-woodhull_993/index.html',\n",
       " 'https://books.toscrape.com/catalogue/the-boys-in-the-boat-nine-americans-and-their-epic-quest-for-gold-at-the-1936-berlin-olympics_992/index.html',\n",
       " 'https://books.toscrape.com/catalogue/the-black-maria_991/index.html',\n",
       " 'https://books.toscrape.com/catalogue/starving-hearts-triangular-trade-trilogy-1_990/index.html',\n",
       " 'https://books.toscrape.com/catalogue/shakespeares-sonnets_989/index.html',\n",
       " 'https://books.toscrape.com/catalogue/set-me-free_988/index.html',\n",
       " 'https://books.toscrape.com/catalogue/scott-pilgrims-precious-little-life-scott-pilgrim-1_987/index.html',\n",
       " 'https://books.toscrape.com/catalogue/rip-it-up-and-start-again_986/index.html',\n",
       " 'https://books.toscrape.com/catalogue/our-band-could-be-your-life-scenes-from-the-american-indie-underground-1981-1991_985/index.html',\n",
       " 'https://books.toscrape.com/catalogue/olio_984/index.html',\n",
       " 'https://books.toscrape.com/catalogue/mesaerion-the-best-science-fiction-stories-1800-1849_983/index.html',\n",
       " 'https://books.toscrape.com/catalogue/libertarianism-for-beginners_982/index.html',\n",
       " 'https://books.toscrape.com/catalogue/its-only-the-himalayas_981/index.html']"
      ]
     },
     "execution_count": 32,
     "metadata": {},
     "output_type": "execute_result"
    }
   ],
   "source": [
    "# concatenate all URLs on the page\n",
    "[ urllib.parse.urljoin(current_page_url, relative_url) for relative_url in book_urls ]"
   ]
  },
  {
   "cell_type": "markdown",
   "metadata": {
    "id": "rqO8r3UthTMq"
   },
   "source": [
    "wrap in a function"
   ]
  },
  {
   "cell_type": "code",
   "execution_count": 33,
   "metadata": {
    "colab": {
     "base_uri": "https://localhost:8080/",
     "height": 17
    },
    "executionInfo": {
     "elapsed": 12,
     "status": "ok",
     "timestamp": 1694544773438,
     "user": {
      "displayName": "`",
      "userId": "02799889750924565863"
     },
     "user_tz": -120
    },
    "id": "8tVgOkeHhSIq",
    "outputId": "6ff26fc1-c3af-4d79-96ec-93f7c9c6551f"
   },
   "outputs": [],
   "source": [
    "def extract_book_links(current_soup, current_page_url):\n",
    "  absolute_book_urls = []\n",
    "  try:\n",
    "    book_urls = [a['href'] for a in current_soup.select('.product_pod .image_container a[href]')]\n",
    "    absolute_book_urls = [ urllib.parse.urljoin(current_page_url, relative_url) for relative_url in book_urls ]\n",
    "  except: pass\n",
    "  return absolute_book_urls"
   ]
  },
  {
   "cell_type": "code",
   "execution_count": 34,
   "metadata": {
    "colab": {
     "base_uri": "https://localhost:8080/",
     "height": 384
    },
    "executionInfo": {
     "elapsed": 11,
     "status": "ok",
     "timestamp": 1694544773438,
     "user": {
      "displayName": "`",
      "userId": "02799889750924565863"
     },
     "user_tz": -120
    },
    "id": "PZfED82IhQJA",
    "outputId": "91b032e9-e189-41f7-a1fe-db5b2fc10204"
   },
   "outputs": [
    {
     "data": {
      "text/plain": [
       "['https://books.toscrape.com/catalogue/a-light-in-the-attic_1000/index.html',\n",
       " 'https://books.toscrape.com/catalogue/tipping-the-velvet_999/index.html',\n",
       " 'https://books.toscrape.com/catalogue/soumission_998/index.html',\n",
       " 'https://books.toscrape.com/catalogue/sharp-objects_997/index.html',\n",
       " 'https://books.toscrape.com/catalogue/sapiens-a-brief-history-of-humankind_996/index.html',\n",
       " 'https://books.toscrape.com/catalogue/the-requiem-red_995/index.html',\n",
       " 'https://books.toscrape.com/catalogue/the-dirty-little-secrets-of-getting-your-dream-job_994/index.html',\n",
       " 'https://books.toscrape.com/catalogue/the-coming-woman-a-novel-based-on-the-life-of-the-infamous-feminist-victoria-woodhull_993/index.html',\n",
       " 'https://books.toscrape.com/catalogue/the-boys-in-the-boat-nine-americans-and-their-epic-quest-for-gold-at-the-1936-berlin-olympics_992/index.html',\n",
       " 'https://books.toscrape.com/catalogue/the-black-maria_991/index.html',\n",
       " 'https://books.toscrape.com/catalogue/starving-hearts-triangular-trade-trilogy-1_990/index.html',\n",
       " 'https://books.toscrape.com/catalogue/shakespeares-sonnets_989/index.html',\n",
       " 'https://books.toscrape.com/catalogue/set-me-free_988/index.html',\n",
       " 'https://books.toscrape.com/catalogue/scott-pilgrims-precious-little-life-scott-pilgrim-1_987/index.html',\n",
       " 'https://books.toscrape.com/catalogue/rip-it-up-and-start-again_986/index.html',\n",
       " 'https://books.toscrape.com/catalogue/our-band-could-be-your-life-scenes-from-the-american-indie-underground-1981-1991_985/index.html',\n",
       " 'https://books.toscrape.com/catalogue/olio_984/index.html',\n",
       " 'https://books.toscrape.com/catalogue/mesaerion-the-best-science-fiction-stories-1800-1849_983/index.html',\n",
       " 'https://books.toscrape.com/catalogue/libertarianism-for-beginners_982/index.html',\n",
       " 'https://books.toscrape.com/catalogue/its-only-the-himalayas_981/index.html']"
      ]
     },
     "execution_count": 34,
     "metadata": {},
     "output_type": "execute_result"
    }
   ],
   "source": [
    "# try it out\n",
    "extract_book_links(current_soup, current_page_url)"
   ]
  },
  {
   "cell_type": "markdown",
   "metadata": {
    "id": "2AB2XceBdtFt"
   },
   "source": [
    "### Parse the whole website"
   ]
  },
  {
   "cell_type": "code",
   "execution_count": 35,
   "metadata": {
    "colab": {
     "base_uri": "https://localhost:8080/",
     "height": 35
    },
    "executionInfo": {
     "elapsed": 11,
     "status": "ok",
     "timestamp": 1694544773439,
     "user": {
      "displayName": "`",
      "userId": "02799889750924565863"
     },
     "user_tz": -120
    },
    "id": "fOelaJsOdsuZ",
    "outputId": "97364d85-93f6-48d3-f788-0c7ce1db1a6c"
   },
   "outputs": [
    {
     "data": {
      "text/plain": [
       "'catalogue/page-2.html'"
      ]
     },
     "execution_count": 35,
     "metadata": {},
     "output_type": "execute_result"
    }
   ],
   "source": [
    "# find the link for the next page\n",
    "relative_next_page_url = current_soup.select(\".next a[href]\")[0]['href']\n",
    "relative_next_page_url"
   ]
  },
  {
   "cell_type": "code",
   "execution_count": 36,
   "metadata": {
    "colab": {
     "base_uri": "https://localhost:8080/",
     "height": 35
    },
    "executionInfo": {
     "elapsed": 10,
     "status": "ok",
     "timestamp": 1694544773439,
     "user": {
      "displayName": "`",
      "userId": "02799889750924565863"
     },
     "user_tz": -120
    },
    "id": "hlFncyLAjAfd",
    "outputId": "3159934b-ff3c-4e3a-9b58-1814b517ffc1"
   },
   "outputs": [
    {
     "data": {
      "text/plain": [
       "'https://books.toscrape.com/catalogue/page-2.html'"
      ]
     },
     "execution_count": 36,
     "metadata": {},
     "output_type": "execute_result"
    }
   ],
   "source": [
    "# concatenate the URL\n",
    "next_page_url = urllib.parse.urljoin(current_page_url, relative_next_page_url)\n",
    "next_page_url"
   ]
  }
 ],
 "metadata": {
  "colab": {
   "provenance": [],
   "toc_visible": true
  },
  "kernelspec": {
   "display_name": "Python 3 (ipykernel)",
   "language": "python",
   "name": "python3"
  },
  "language_info": {
   "codemirror_mode": {
    "name": "ipython",
    "version": 3
   },
   "file_extension": ".py",
   "mimetype": "text/x-python",
   "name": "python",
   "nbconvert_exporter": "python",
   "pygments_lexer": "ipython3",
   "version": "3.10.12"
  },
  "nav_menu": {},
  "toc": {
   "base_numbering": 1,
   "nav_menu": {},
   "number_sections": true,
   "sideBar": true,
   "skip_h1_title": false,
   "title_cell": "Table of Contents",
   "title_sidebar": "Contents",
   "toc_cell": false,
   "toc_position": {
    "height": "calc(100% - 180px)",
    "left": "10px",
    "top": "150px",
    "width": "165px"
   },
   "toc_section_display": true,
   "toc_window_display": true
  },
  "toc_position": {
   "height": "40px",
   "left": "10px",
   "right": "20px",
   "top": "58px",
   "width": "212px"
  },
  "varInspector": {
   "cols": {
    "lenName": 16,
    "lenType": 16,
    "lenVar": 40
   },
   "kernels_config": {
    "python": {
     "delete_cmd_postfix": "",
     "delete_cmd_prefix": "del ",
     "library": "var_list.py",
     "varRefreshCmd": "print(var_dic_list())"
    },
    "r": {
     "delete_cmd_postfix": ") ",
     "delete_cmd_prefix": "rm(",
     "library": "var_list.r",
     "varRefreshCmd": "cat(var_dic_list()) "
    }
   },
   "types_to_exclude": [
    "module",
    "function",
    "builtin_function_or_method",
    "instance",
    "_Feature"
   ],
   "window_display": false
  }
 },
 "nbformat": 4,
 "nbformat_minor": 1
}
