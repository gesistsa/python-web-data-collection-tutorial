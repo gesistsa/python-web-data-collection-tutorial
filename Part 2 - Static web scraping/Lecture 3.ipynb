{
 "cells": [
  {
   "cell_type": "markdown",
   "metadata": {
    "id": "SOOwmBfQSJ_H"
   },
   "source": [
    "# Lecture - Static web scraping 3\n",
    "\n",
    "Author: Jun Sun (jun.sun@gesis.org)"
   ]
  },
  {
   "cell_type": "markdown",
   "metadata": {
    "id": "7Zo8z_QQvc4y"
   },
   "source": [
    "## selectorlib"
   ]
  },
  {
   "cell_type": "code",
   "execution_count": 1,
   "metadata": {
    "colab": {
     "base_uri": "https://localhost:8080/"
    },
    "executionInfo": {
     "elapsed": 8351,
     "status": "ok",
     "timestamp": 1694544834996,
     "user": {
      "displayName": "`",
      "userId": "02799889750924565863"
     },
     "user_tz": -120
    },
    "id": "ywH9hmcaNcJ1",
    "outputId": "db9a76e9-d3da-491b-d529-4d83ab918335"
   },
   "outputs": [
    {
     "name": "stdout",
     "output_type": "stream",
     "text": [
      "Collecting selectorlib\n",
      "  Downloading selectorlib-0.16.0-py2.py3-none-any.whl (5.8 kB)\n",
      "Requirement already satisfied: Click>=6.0 in /usr/local/lib/python3.10/dist-packages (from selectorlib) (8.1.7)\n",
      "Requirement already satisfied: pyyaml>=3.12 in /usr/local/lib/python3.10/dist-packages (from selectorlib) (6.0.1)\n",
      "Collecting parsel>=1.5.1 (from selectorlib)\n",
      "  Downloading parsel-1.8.1-py2.py3-none-any.whl (17 kB)\n",
      "Collecting cssselect>=0.9 (from parsel>=1.5.1->selectorlib)\n",
      "  Downloading cssselect-1.2.0-py2.py3-none-any.whl (18 kB)\n",
      "Collecting jmespath (from parsel>=1.5.1->selectorlib)\n",
      "  Downloading jmespath-1.0.1-py3-none-any.whl (20 kB)\n",
      "Requirement already satisfied: lxml in /usr/local/lib/python3.10/dist-packages (from parsel>=1.5.1->selectorlib) (4.9.3)\n",
      "Requirement already satisfied: packaging in /usr/local/lib/python3.10/dist-packages (from parsel>=1.5.1->selectorlib) (23.1)\n",
      "Collecting w3lib>=1.19.0 (from parsel>=1.5.1->selectorlib)\n",
      "  Downloading w3lib-2.1.2-py3-none-any.whl (21 kB)\n",
      "Installing collected packages: w3lib, jmespath, cssselect, parsel, selectorlib\n",
      "Successfully installed cssselect-1.2.0 jmespath-1.0.1 parsel-1.8.1 selectorlib-0.16.0 w3lib-2.1.2\n"
     ]
    }
   ],
   "source": [
    "# install the selectorlib package\n",
    "!pip install selectorlib"
   ]
  },
  {
   "cell_type": "code",
   "execution_count": 2,
   "metadata": {
    "executionInfo": {
     "elapsed": 4,
     "status": "ok",
     "timestamp": 1694544834996,
     "user": {
      "displayName": "`",
      "userId": "02799889750924565863"
     },
     "user_tz": -120
    },
    "id": "Oiq5TLX6Hmuo"
   },
   "outputs": [],
   "source": [
    "# import stuffs\n",
    "from selectorlib import Extractor\n",
    "import requests"
   ]
  },
  {
   "cell_type": "code",
   "execution_count": 3,
   "metadata": {
    "executionInfo": {
     "elapsed": 3,
     "status": "ok",
     "timestamp": 1694544834996,
     "user": {
      "displayName": "`",
      "userId": "02799889750924565863"
     },
     "user_tz": -120
    },
    "id": "DcgQtGMbMQQ7"
   },
   "outputs": [],
   "source": [
    "# we start here\n",
    "url = 'https://scrapeme.live/shop/page/1/'"
   ]
  },
  {
   "cell_type": "code",
   "execution_count": 4,
   "metadata": {
    "executionInfo": {
     "elapsed": 4,
     "status": "ok",
     "timestamp": 1694544835482,
     "user": {
      "displayName": "`",
      "userId": "02799889750924565863"
     },
     "user_tz": -120
    },
    "id": "CjV2qAcsNlKd"
   },
   "outputs": [],
   "source": [
    "# we get the yaml from the selectorlib addon\n",
    "yaml = \"\"\"\n",
    "  product_name:\n",
    "      css: 'li.product h2.woocommerce-loop-product__title'\n",
    "      xpath: null\n",
    "      multiple: true\n",
    "      type: Text\n",
    "  price:\n",
    "      css: 'li.product span.woocommerce-Price-amount'\n",
    "      xpath: null\n",
    "      multiple: true\n",
    "      type: Text\n",
    "  image:\n",
    "      css: 'li.product img.attachment-woocommerce_thumbnail'\n",
    "      xpath: null\n",
    "      multiple: true\n",
    "      type: Image\n",
    "  link:\n",
    "      css: 'li.product a.woocommerce-LoopProduct-link'\n",
    "      xpath: null\n",
    "      multiple: true\n",
    "      type: Link\n",
    "\"\"\"\n"
   ]
  },
  {
   "cell_type": "code",
   "execution_count": 5,
   "metadata": {
    "executionInfo": {
     "elapsed": 4,
     "status": "ok",
     "timestamp": 1694544835483,
     "user": {
      "displayName": "`",
      "userId": "02799889750924565863"
     },
     "user_tz": -120
    },
    "id": "ALVBgt5eNywq"
   },
   "outputs": [],
   "source": [
    "# create a selectorlib extractor from the yaml\n",
    "e = Extractor.from_yaml_string(yaml)"
   ]
  },
  {
   "cell_type": "code",
   "execution_count": 6,
   "metadata": {
    "executionInfo": {
     "elapsed": 626,
     "status": "ok",
     "timestamp": 1694544836105,
     "user": {
      "displayName": "`",
      "userId": "02799889750924565863"
     },
     "user_tz": -120
    },
    "id": "mcsZ6jP5N4sp"
   },
   "outputs": [],
   "source": [
    "# request the URL\n",
    "r = requests.get(url)"
   ]
  },
  {
   "cell_type": "code",
   "execution_count": 7,
   "metadata": {
    "colab": {
     "base_uri": "https://localhost:8080/"
    },
    "executionInfo": {
     "elapsed": 16,
     "status": "ok",
     "timestamp": 1694544836105,
     "user": {
      "displayName": "`",
      "userId": "02799889750924565863"
     },
     "user_tz": -120
    },
    "id": "-ORQbnDUOYkM",
    "outputId": "858e6ddf-afe6-4bfd-c0c4-8d4bb0cfbd67"
   },
   "outputs": [
    {
     "data": {
      "text/plain": [
       "{'product_name': ['Bulbasaur',\n",
       "  'Ivysaur',\n",
       "  'Venusaur',\n",
       "  'Charmander',\n",
       "  'Charmeleon',\n",
       "  'Charizard',\n",
       "  'Squirtle',\n",
       "  'Wartortle',\n",
       "  'Blastoise',\n",
       "  'Caterpie',\n",
       "  'Metapod',\n",
       "  'Butterfree',\n",
       "  'Weedle',\n",
       "  'Kakuna',\n",
       "  'Beedrill',\n",
       "  'Pidgey'],\n",
       " 'price': ['£ 63.00',\n",
       "  '£ 87.00',\n",
       "  '£ 105.00',\n",
       "  '£ 48.00',\n",
       "  '£ 165.00',\n",
       "  '£ 156.00',\n",
       "  '£ 130.00',\n",
       "  '£ 123.00',\n",
       "  '£ 76.00',\n",
       "  '£ 73.00',\n",
       "  '£ 148.00',\n",
       "  '£ 162.00',\n",
       "  '£ 25.00',\n",
       "  '£ 148.00',\n",
       "  '£ 168.00',\n",
       "  '£ 159.00'],\n",
       " 'image': ['https://scrapeme.live/wp-content/uploads/2018/08/001-350x350.png',\n",
       "  'https://scrapeme.live/wp-content/uploads/2018/08/002-350x350.png',\n",
       "  'https://scrapeme.live/wp-content/uploads/2018/08/003-350x350.png',\n",
       "  'https://scrapeme.live/wp-content/uploads/2018/08/004-350x350.png',\n",
       "  'https://scrapeme.live/wp-content/uploads/2018/08/005-350x350.png',\n",
       "  'https://scrapeme.live/wp-content/uploads/2018/08/006-350x350.png',\n",
       "  'https://scrapeme.live/wp-content/uploads/2018/08/007-350x350.png',\n",
       "  'https://scrapeme.live/wp-content/uploads/2018/08/008-350x350.png',\n",
       "  'https://scrapeme.live/wp-content/uploads/2018/08/009-350x350.png',\n",
       "  'https://scrapeme.live/wp-content/uploads/2018/08/010-350x350.png',\n",
       "  'https://scrapeme.live/wp-content/uploads/2018/08/011-350x350.png',\n",
       "  'https://scrapeme.live/wp-content/uploads/2018/08/012-350x350.png',\n",
       "  'https://scrapeme.live/wp-content/uploads/2018/08/013-350x350.png',\n",
       "  'https://scrapeme.live/wp-content/uploads/2018/08/014-350x350.png',\n",
       "  'https://scrapeme.live/wp-content/uploads/2018/08/015-350x350.png',\n",
       "  'https://scrapeme.live/wp-content/uploads/2018/08/016-350x350.png'],\n",
       " 'link': ['https://scrapeme.live/shop/Bulbasaur/',\n",
       "  'https://scrapeme.live/shop/Ivysaur/',\n",
       "  'https://scrapeme.live/shop/Venusaur/',\n",
       "  'https://scrapeme.live/shop/Charmander/',\n",
       "  'https://scrapeme.live/shop/Charmeleon/',\n",
       "  'https://scrapeme.live/shop/Charizard/',\n",
       "  'https://scrapeme.live/shop/Squirtle/',\n",
       "  'https://scrapeme.live/shop/Wartortle/',\n",
       "  'https://scrapeme.live/shop/Blastoise/',\n",
       "  'https://scrapeme.live/shop/Caterpie/',\n",
       "  'https://scrapeme.live/shop/Metapod/',\n",
       "  'https://scrapeme.live/shop/Butterfree/',\n",
       "  'https://scrapeme.live/shop/Weedle/',\n",
       "  'https://scrapeme.live/shop/Kakuna/',\n",
       "  'https://scrapeme.live/shop/Beedrill/',\n",
       "  'https://scrapeme.live/shop/Pidgey/']}"
      ]
     },
     "execution_count": 7,
     "metadata": {},
     "output_type": "execute_result"
    }
   ],
   "source": [
    "# use the extractor to extract the names, images and links\n",
    "e.extract(r.text)"
   ]
  },
  {
   "cell_type": "markdown",
   "metadata": {
    "id": "9uwVNd7UYSZr"
   },
   "source": [
    "## Regular expression"
   ]
  },
  {
   "cell_type": "code",
   "execution_count": 8,
   "metadata": {
    "executionInfo": {
     "elapsed": 14,
     "status": "ok",
     "timestamp": 1694544836105,
     "user": {
      "displayName": "`",
      "userId": "02799889750924565863"
     },
     "user_tz": -120
    },
    "id": "JOMBczviPm-G"
   },
   "outputs": [],
   "source": [
    "# Import the re package for regular expression handling\n",
    "import re"
   ]
  },
  {
   "cell_type": "code",
   "execution_count": 9,
   "metadata": {
    "executionInfo": {
     "elapsed": 13,
     "status": "ok",
     "timestamp": 1694544836105,
     "user": {
      "displayName": "`",
      "userId": "02799889750924565863"
     },
     "user_tz": -120
    },
    "id": "3yJaDpzUd2Tb"
   },
   "outputs": [],
   "source": [
    "# regex for retrieving the stock level\n",
    "regex_stock = re.compile(r\"(\\d+) in stock\")"
   ]
  },
  {
   "cell_type": "code",
   "execution_count": 10,
   "metadata": {
    "colab": {
     "base_uri": "https://localhost:8080/"
    },
    "executionInfo": {
     "elapsed": 14,
     "status": "ok",
     "timestamp": 1694544836106,
     "user": {
      "displayName": "`",
      "userId": "02799889750924565863"
     },
     "user_tz": -120
    },
    "id": "9S9UBCzSeO3G",
    "outputId": "7fa9ea59-c813-41c1-e75c-91c994b4516d"
   },
   "outputs": [
    {
     "data": {
      "text/plain": [
       "['41']"
      ]
     },
     "execution_count": 10,
     "metadata": {},
     "output_type": "execute_result"
    }
   ],
   "source": [
    "# the first element of the result is the stock level\n",
    "regex_stock.findall(\"41 in stock\")"
   ]
  },
  {
   "cell_type": "markdown",
   "metadata": {
    "id": "8yj5NsXFxE1Y"
   },
   "source": [
    "What if something is out of stock?"
   ]
  },
  {
   "cell_type": "code",
   "execution_count": 11,
   "metadata": {
    "colab": {
     "base_uri": "https://localhost:8080/"
    },
    "executionInfo": {
     "elapsed": 10,
     "status": "ok",
     "timestamp": 1694544836106,
     "user": {
      "displayName": "`",
      "userId": "02799889750924565863"
     },
     "user_tz": -120
    },
    "id": "2K1zF1j1xFlB",
    "outputId": "a222f036-7ae9-4ce7-9054-c77e8016d9eb"
   },
   "outputs": [
    {
     "data": {
      "text/plain": [
       "[]"
      ]
     },
     "execution_count": 11,
     "metadata": {},
     "output_type": "execute_result"
    }
   ],
   "source": [
    "# returns an empty list, but should return 0\n",
    "regex_stock.findall(\"out of stock\")"
   ]
  },
  {
   "cell_type": "code",
   "execution_count": 12,
   "metadata": {
    "executionInfo": {
     "elapsed": 9,
     "status": "ok",
     "timestamp": 1694544836106,
     "user": {
      "displayName": "`",
      "userId": "02799889750924565863"
     },
     "user_tz": -120
    },
    "id": "puaoHC4XecpG"
   },
   "outputs": [],
   "source": [
    "# a function with the right behavior\n",
    "def get_stock_level(str_stock):\n",
    "  regex_stock = re.compile(r\"(\\d+) in stock\")\n",
    "  stock_level = regex_stock.findall(str_stock)\n",
    "  if len(stock_level) == 0:\n",
    "    return 0\n",
    "  else:\n",
    "    return int(stock_level[0])"
   ]
  },
  {
   "cell_type": "code",
   "execution_count": 13,
   "metadata": {
    "colab": {
     "base_uri": "https://localhost:8080/"
    },
    "executionInfo": {
     "elapsed": 9,
     "status": "ok",
     "timestamp": 1694544836107,
     "user": {
      "displayName": "`",
      "userId": "02799889750924565863"
     },
     "user_tz": -120
    },
    "id": "JAVh7nEg0Br6",
    "outputId": "5df20a88-bd4f-49bb-9c4c-235e1fdf7eaa"
   },
   "outputs": [
    {
     "name": "stdout",
     "output_type": "stream",
     "text": [
      "41\n",
      "0\n"
     ]
    }
   ],
   "source": [
    "# try it out\n",
    "print(get_stock_level(\"41 in stock\"))\n",
    "print(get_stock_level(\"out of stock\"))"
   ]
  },
  {
   "cell_type": "markdown",
   "metadata": {
    "id": "Hp_8Odn80KCs"
   },
   "source": [
    "Another example"
   ]
  },
  {
   "cell_type": "code",
   "execution_count": 14,
   "metadata": {
    "colab": {
     "base_uri": "https://localhost:8080/",
     "height": 0
    },
    "executionInfo": {
     "elapsed": 8,
     "status": "ok",
     "timestamp": 1694544836107,
     "user": {
      "displayName": "`",
      "userId": "02799889750924565863"
     },
     "user_tz": -120
    },
    "id": "UWOpfcsEs1PO",
    "outputId": "537955ec-acd8-40b6-9fb8-1ccbc013a4ee"
   },
   "outputs": [
    {
     "data": {
      "application/vnd.google.colaboratory.intrinsic+json": {
       "type": "string"
      },
      "text/plain": [
       "'87.00'"
      ]
     },
     "execution_count": 14,
     "metadata": {},
     "output_type": "execute_result"
    }
   ],
   "source": [
    "# another example of regex for getting the numerical value of price\n",
    "regex_price = re.compile(r\".\\s(\\d+\\.\\d+)\")\n",
    "regex_price.findall('£ 87.00')[0]"
   ]
  },
  {
   "cell_type": "code",
   "execution_count": 15,
   "metadata": {
    "colab": {
     "base_uri": "https://localhost:8080/"
    },
    "executionInfo": {
     "elapsed": 7,
     "status": "ok",
     "timestamp": 1694544836107,
     "user": {
      "displayName": "`",
      "userId": "02799889750924565863"
     },
     "user_tz": -120
    },
    "id": "6Xquo0PPvbDC",
    "outputId": "3629c3ee-7a2d-4a7a-8138-2b6fefbbb9f4"
   },
   "outputs": [
    {
     "data": {
      "text/plain": [
       "87.0"
      ]
     },
     "execution_count": 15,
     "metadata": {},
     "output_type": "execute_result"
    }
   ],
   "source": [
    "# convert the string to a float number\n",
    "float(regex_price.findall('£ 87.00')[0])"
   ]
  }
 ],
 "metadata": {
  "colab": {
   "provenance": [],
   "toc_visible": true
  },
  "kernelspec": {
   "display_name": "Python 3 (ipykernel)",
   "language": "python",
   "name": "python3"
  },
  "language_info": {
   "codemirror_mode": {
    "name": "ipython",
    "version": 3
   },
   "file_extension": ".py",
   "mimetype": "text/x-python",
   "name": "python",
   "nbconvert_exporter": "python",
   "pygments_lexer": "ipython3",
   "version": "3.10.12"
  }
 },
 "nbformat": 4,
 "nbformat_minor": 1
}
